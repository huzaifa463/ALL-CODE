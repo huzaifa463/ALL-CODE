{
 "cells": [
  {
   "cell_type": "markdown",
   "id": "b220e987",
   "metadata": {},
   "source": [
    "# Question no.1"
   ]
  },
  {
   "cell_type": "code",
   "execution_count": null,
   "id": "43de4081",
   "metadata": {},
   "outputs": [],
   "source": [
    "def avg(n1,n2,n3,n4):\n",
    "    c = (n1+n2+n3+n4)/4\n",
    "    return(c)\n",
    "    '''\n",
    "    accept 5 arguments and then taking there \n",
    "    avg and return the function\n",
    "    '''\n",
    "    \n",
    "    \n",
    "\n"
   ]
  },
  {
   "cell_type": "code",
   "execution_count": null,
   "id": "43ba40d0",
   "metadata": {},
   "outputs": [],
   "source": [
    "avg(1,2,3,4)"
   ]
  },
  {
   "cell_type": "markdown",
   "id": "602efe81",
   "metadata": {},
   "source": [
    "# Question no.2"
   ]
  },
  {
   "cell_type": "code",
   "execution_count": null,
   "id": "cc12bc94",
   "metadata": {},
   "outputs": [],
   "source": [
    "def isIn(string,substring):\n",
    "    for i in range(len(string)):\n",
    "        print(string[i:len(substring)+i])\n",
    "        if string[i:len(substring)+i] == substring:\n",
    "            return\"Found\"\n",
    "    return\"not Found\""
   ]
  },
  {
   "cell_type": "code",
   "execution_count": null,
   "id": "24a334ce",
   "metadata": {},
   "outputs": [],
   "source": [
    "isIn(substring='knfg',string='huzaifayaman')"
   ]
  },
  {
   "cell_type": "markdown",
   "id": "4422e2b3",
   "metadata": {},
   "source": [
    "# Question no.3"
   ]
  },
  {
   "cell_type": "code",
   "execution_count": 1,
   "id": "2e76418b",
   "metadata": {},
   "outputs": [],
   "source": [
    "def demonstrate(*argv,**kwargs):\n",
    "    print(\"argv:\",argv)\n",
    "    print(\"kawrgs:\",kwargs)\n",
    "    \n"
   ]
  },
  {
   "cell_type": "code",
   "execution_count": 2,
   "id": "aaa98388",
   "metadata": {},
   "outputs": [
    {
     "name": "stdout",
     "output_type": "stream",
     "text": [
      "argv: ('huzaifa',)\n",
      "kawrgs: {'first': 'huzaifayaman'}\n"
     ]
    }
   ],
   "source": [
    "demonstrate('huzaifa',first='huzaifayaman')"
   ]
  },
  {
   "cell_type": "markdown",
   "id": "52025fed",
   "metadata": {},
   "source": [
    "# Question no.4"
   ]
  },
  {
   "cell_type": "code",
   "execution_count": null,
   "id": "4ef535c7",
   "metadata": {},
   "outputs": [],
   "source": [
    "def sum1(a,b):\n",
    "    c=a+b\n",
    "    return c\n",
    "def product(a,b):\n",
    "         d=a*b\n",
    "    return d\n",
    "product(3,7)\n",
    "sum1(1,2)"
   ]
  },
  {
   "cell_type": "markdown",
   "id": "069468ad",
   "metadata": {},
   "source": [
    "# File Handling"
   ]
  },
  {
   "cell_type": "code",
   "execution_count": null,
   "id": "c39e6983",
   "metadata": {},
   "outputs": [],
   "source": [
    "# Qusetion no.1"
   ]
  },
  {
   "cell_type": "code",
   "execution_count": null,
   "id": "53b4c998",
   "metadata": {},
   "outputs": [],
   "source": [
    "print(\"......Entering data...... \")\n",
    "while True:\n",
    "    choice = input(\"To enter data write 1 and for retrieval of data write 2 and to quite write done :\")\n",
    "    if choice=='1':\n",
    "        cnic=input(\"Enter your cnic :\")\n",
    "        name= input(\"Enter your name :\")\n",
    "        hobbies=input(\"Enter your hobbies :\")\n",
    "        dob=input(\"Enter your dob :\")\n",
    "        occupation=input(\"Enter your occupation :\")\n",
    "        residence=input(\"Enter your residence address :\")\n",
    "        record= {cnic:{'name':name,'hobbes':hobbies,'occupation':occupation,'dob':dob,'address':residence}}\n",
    "        f=open(\"new_file.txt\",'a')\n",
    "        f.write(str(record)+\"\\n\")\n",
    "        f.close()\n",
    "    elif choice=='done':\n",
    "        print(\"Thank you\")\n",
    "        break\n",
    "    elif choice =='2':\n",
    "         with open('new_file.txt','r') as f:\n",
    "            data=[]\n",
    "            for line in f.readlines():\n",
    "                line=eval(line)\n",
    "                data.append(line)\n",
    "                entered_cnic=input(\"Enter cnic\")\n",
    "                for records in data:\n",
    "                     if entered_cnic in record.keys():\n",
    "                        print(record[entered_cnic])\n",
    "                        break\n",
    "                \n",
    "    else:\n",
    "        print(\"invalid input(bad day)\")\n",
    "    \n",
    "        \n",
    "    \n",
    "        \n",
    "        \n",
    "        \n",
    "        \n",
    "        \n",
    "    \n",
    "    "
   ]
  },
  {
   "cell_type": "markdown",
   "id": "9bbb520e",
   "metadata": {},
   "source": [
    "# Question no.2"
   ]
  },
  {
   "cell_type": "code",
   "execution_count": 10,
   "id": "93b5cd9d",
   "metadata": {},
   "outputs": [],
   "source": [
    "f=open(\"short summary.txt\",\"w\")\n",
    "f.write('''A paragraph is a group of related sentences that\n",
    "support one main idea. \n",
    "In general, paragraphs consist of three parts:\n",
    "the topic sentence, body sentences, and the concluding \n",
    "or the bridge sentence to the next paragraph or section''')\n",
    "f.close()"
   ]
  },
  {
   "cell_type": "code",
   "execution_count": 21,
   "id": "212c7817",
   "metadata": {},
   "outputs": [
    {
     "name": "stdout",
     "output_type": "stream",
     "text": [
      "* a : 1\n",
      "* \n",
      "In : 1\n",
      "* three : 1\n",
      "* consist : 1\n",
      "* section : 1\n",
      "* that\n",
      "support : 1\n",
      "* paragraph : 2\n",
      "* general, : 1\n",
      "* paragraphs : 1\n",
      "* or : 1\n",
      "* idea. : 1\n",
      "* body : 1\n",
      "* and : 1\n",
      "* parts:\n",
      "the : 1\n",
      "* one : 1\n",
      "* the : 3\n",
      "* related : 1\n",
      "* sentences, : 1\n",
      "* next : 1\n",
      "* sentence, : 1\n",
      "* A : 1\n",
      "* topic : 1\n",
      "* group : 1\n",
      "* to : 1\n",
      "* bridge : 1\n",
      "* sentences : 1\n",
      "* of : 2\n",
      "* sentence : 1\n",
      "* concluding : 1\n",
      "* \n",
      "or : 1\n",
      "* main : 1\n",
      "* is : 1\n"
     ]
    }
   ],
   "source": [
    "with open(\"short summary.txt\",\"r\") as f:\n",
    "    lines=f.read()\n",
    "    words=lines.split(\" \")\n",
    "#     print(words)\n",
    "    unique_words=set(words)\n",
    "    for uword in unique_words:\n",
    "        count=0\n",
    "        for word in words:\n",
    "            if word==uword:\n",
    "                count=count+1\n",
    "        print('*',uword,':',count)\n",
    "#     print(unique_words)\n",
    "    \n",
    "#     print(lines)\n"
   ]
  },
  {
   "cell_type": "markdown",
   "id": "4d762bae",
   "metadata": {},
   "source": [
    "# Question no.3"
   ]
  },
  {
   "cell_type": "code",
   "execution_count": 23,
   "id": "7614c91c",
   "metadata": {},
   "outputs": [],
   "source": [
    "f=open(\"someone.txt\",\"w\") \n",
    "f.write('''My name is huzaifa yaman, \n",
    "i m in bscs lahore leads university \n",
    "this is my second semester , i have passed my exams\n",
    "with good gpa''')\n",
    "f.close()\n"
   ]
  },
  {
   "cell_type": "code",
   "execution_count": 45,
   "id": "d615b79f",
   "metadata": {},
   "outputs": [
    {
     "name": "stdout",
     "output_type": "stream",
     "text": [
      "1: My name is huzaifa yaman, \n",
      "\n",
      "2: i m in bscs lahore leads university \n",
      "\n",
      "3: this is my second semester , i have passed my exams\n",
      "\n",
      "4: with good gpa\n"
     ]
    }
   ],
   "source": [
    "with open(\"someone.txt\",\"r\") as file:\n",
    "    count = 1\n",
    "    for line in file.readlines():\n",
    "        print(str(count) + \": \" + line)\n",
    "        count+=1"
   ]
  },
  {
   "cell_type": "markdown",
   "id": "d186ffe8",
   "metadata": {},
   "source": [
    "# Question no.4"
   ]
  },
  {
   "cell_type": "code",
   "execution_count": 90,
   "id": "b35a46eb",
   "metadata": {},
   "outputs": [
    {
     "name": "stdout",
     "output_type": "stream",
     "text": [
      "please enter a no. : 5\n",
      "square root of 5 is 2.23606797749979\n"
     ]
    }
   ],
   "source": [
    "# import math \n",
    "\n",
    "# x = int(input('please enter a no. : '))\n",
    "# try :\n",
    "#     print(f'square root of {x} is {math.sqrt(x)}')\n",
    "# except ValueError as ve :\n",
    "#     print('you have entered a negative no.')\n",
    "    \n",
    "    "
   ]
  },
  {
   "cell_type": "code",
   "execution_count": 144,
   "id": "d5e0e85f",
   "metadata": {},
   "outputs": [
    {
     "name": "stdout",
     "output_type": "stream",
     "text": [
      "Enter Id (1-5):8\n",
      "index error\n"
     ]
    }
   ],
   "source": [
    "try:\n",
    "    friends = [\"shoaib\",\"awais\",\"abdulrehman\",\"faizan\",\"nadeem\"]\n",
    "    user = int(input(\"Enter Id (1-5):\"))\n",
    "    print(\"Your name is \",friends[user-1],\" and your id is \",user)\n",
    "except ValueError as ex:\n",
    "    print(\"value error\")\n",
    "except IndexError as ex:\n",
    "    print(\"index error\")\n",
    "\n",
    "\n",
    "    "
   ]
  },
  {
   "cell_type": "code",
   "execution_count": 7,
   "id": "a5ede2ad",
   "metadata": {},
   "outputs": [
    {
     "name": "stdout",
     "output_type": "stream",
     "text": [
      "Enter your name :ahmed\n",
      "Entered name is : ahmed  and Present are : ['huzaifa', 'shoaib', 'bakr', 'awais', 'faizan']\n",
      "the name is not present:\n",
      "Name : ahmed IS present in : ['huzaifa', 'shoaib', 'bakr', 'awais', 'faizan']\n"
     ]
    }
   ],
   "source": [
    "try:\n",
    "    names=[\"huzaifa\",\"shoaib\",\"bakr\",\"awais\",\"faizan\"]\n",
    "    user=input(\"Enter your name :\")\n",
    "    print(\"Entered name is :\",user,\" and Present are :\",names)\n",
    "except NameError as ne:\n",
    "    print(\"Name error \")\n",
    "else  :\n",
    "    print(\"the name is not present:\")\n",
    "finally:\n",
    "    print(\"Name :\",user,\"IS present in :\",names)\n",
    "    "
   ]
  },
  {
   "cell_type": "code",
   "execution_count": 35,
   "id": "6ba1c24c",
   "metadata": {},
   "outputs": [
    {
     "name": "stdout",
     "output_type": "stream",
     "text": [
      "Enter the index : gefwe\n"
     ]
    }
   ],
   "source": [
    "try:\n",
    "    list1 = [\"baker\",\"nadeem\",\"huzaida\",\"shoaib\"]\n",
    "    name = input(\"Enter the index : \")\n",
    "    for i in list1:\n",
    "        if i in name:\n",
    "            print(i, \"Found\")\n",
    "except:\n",
    "    print(\"Index doesn't exist\")\n"
   ]
  },
  {
   "cell_type": "code",
   "execution_count": 44,
   "id": "4d84c340",
   "metadata": {},
   "outputs": [
    {
     "name": "stdout",
     "output_type": "stream",
     "text": [
      "bakar\n"
     ]
    }
   ],
   "source": [
    " list2 = [\"bakar\" , \"shohaib\" , \"nadeem\" , \"huzaifa\"]\n",
    "user = input()\n",
    "if i in list2:\n",
    "    if i in  user:\n",
    "        print(\"Found\")\n",
    "        \n",
    "else:\n",
    "    print(\"Not Found\")\n",
    "    "
   ]
  },
  {
   "cell_type": "code",
   "execution_count": null,
   "id": "701389a2",
   "metadata": {},
   "outputs": [],
   "source": []
  }
 ],
 "metadata": {
  "kernelspec": {
   "display_name": "Python 3 (ipykernel)",
   "language": "python",
   "name": "python3"
  },
  "language_info": {
   "codemirror_mode": {
    "name": "ipython",
    "version": 3
   },
   "file_extension": ".py",
   "mimetype": "text/x-python",
   "name": "python",
   "nbconvert_exporter": "python",
   "pygments_lexer": "ipython3",
   "version": "3.9.7"
  }
 },
 "nbformat": 4,
 "nbformat_minor": 5
}
