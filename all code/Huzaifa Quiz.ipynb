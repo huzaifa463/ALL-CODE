{
 "cells": [
  {
   "cell_type": "markdown",
   "id": "9594fbba",
   "metadata": {},
   "source": [
    "# QUESTION NO.1\n",
    "\n"
   ]
  },
  {
   "cell_type": "code",
   "execution_count": 1,
   "id": "94ae9425",
   "metadata": {},
   "outputs": [
    {
     "data": {
      "text/plain": [
       "(1, 50)"
      ]
     },
     "execution_count": 1,
     "metadata": {},
     "output_type": "execute_result"
    }
   ],
   "source": [
    "import numpy as np \n",
    "import pandas as pd\n",
    "oned_array = np.random.randint(0,255, size=(1,50))\n",
    "oned_array.shape"
   ]
  },
  {
   "cell_type": "code",
   "execution_count": 15,
   "id": "a34e0527",
   "metadata": {},
   "outputs": [],
   "source": [
    "oned_array=oned_array.reshape(2,25)\n",
    "df= pd.DataFrame(oned_array , columns='A B C D E F G H I J K L M N O P Q R S T U V W X Y'.split(\" \"))\n"
   ]
  },
  {
   "cell_type": "code",
   "execution_count": 3,
   "id": "c94a71f1",
   "metadata": {},
   "outputs": [
    {
     "data": {
      "text/html": [
       "<div>\n",
       "<style scoped>\n",
       "    .dataframe tbody tr th:only-of-type {\n",
       "        vertical-align: middle;\n",
       "    }\n",
       "\n",
       "    .dataframe tbody tr th {\n",
       "        vertical-align: top;\n",
       "    }\n",
       "\n",
       "    .dataframe thead th {\n",
       "        text-align: right;\n",
       "    }\n",
       "</style>\n",
       "<table border=\"1\" class=\"dataframe\">\n",
       "  <thead>\n",
       "    <tr style=\"text-align: right;\">\n",
       "      <th></th>\n",
       "      <th>A</th>\n",
       "      <th>B</th>\n",
       "      <th>C</th>\n",
       "      <th>D</th>\n",
       "      <th>E</th>\n",
       "      <th>F</th>\n",
       "      <th>G</th>\n",
       "      <th>H</th>\n",
       "      <th>I</th>\n",
       "      <th>J</th>\n",
       "      <th>...</th>\n",
       "      <th>Q</th>\n",
       "      <th>R</th>\n",
       "      <th>S</th>\n",
       "      <th>T</th>\n",
       "      <th>U</th>\n",
       "      <th>V</th>\n",
       "      <th>W</th>\n",
       "      <th>X</th>\n",
       "      <th>Y</th>\n",
       "      <th>Z</th>\n",
       "    </tr>\n",
       "  </thead>\n",
       "  <tbody>\n",
       "    <tr>\n",
       "      <th>0</th>\n",
       "      <td>224</td>\n",
       "      <td>135</td>\n",
       "      <td>99</td>\n",
       "      <td>138</td>\n",
       "      <td>84</td>\n",
       "      <td>176</td>\n",
       "      <td>23</td>\n",
       "      <td>175</td>\n",
       "      <td>180</td>\n",
       "      <td>159</td>\n",
       "      <td>...</td>\n",
       "      <td>196</td>\n",
       "      <td>123</td>\n",
       "      <td>128</td>\n",
       "      <td>155</td>\n",
       "      <td>220</td>\n",
       "      <td>135</td>\n",
       "      <td>90</td>\n",
       "      <td>42</td>\n",
       "      <td>83</td>\n",
       "      <td>323</td>\n",
       "    </tr>\n",
       "    <tr>\n",
       "      <th>1</th>\n",
       "      <td>128</td>\n",
       "      <td>78</td>\n",
       "      <td>9</td>\n",
       "      <td>143</td>\n",
       "      <td>87</td>\n",
       "      <td>28</td>\n",
       "      <td>75</td>\n",
       "      <td>214</td>\n",
       "      <td>182</td>\n",
       "      <td>143</td>\n",
       "      <td>...</td>\n",
       "      <td>117</td>\n",
       "      <td>36</td>\n",
       "      <td>120</td>\n",
       "      <td>133</td>\n",
       "      <td>58</td>\n",
       "      <td>209</td>\n",
       "      <td>32</td>\n",
       "      <td>233</td>\n",
       "      <td>171</td>\n",
       "      <td>137</td>\n",
       "    </tr>\n",
       "  </tbody>\n",
       "</table>\n",
       "<p>2 rows × 26 columns</p>\n",
       "</div>"
      ],
      "text/plain": [
       "     A    B   C    D   E    F   G    H    I    J  ...    Q    R    S    T  \\\n",
       "0  224  135  99  138  84  176  23  175  180  159  ...  196  123  128  155   \n",
       "1  128   78   9  143  87   28  75  214  182  143  ...  117   36  120  133   \n",
       "\n",
       "     U    V   W    X    Y    Z  \n",
       "0  220  135  90   42   83  323  \n",
       "1   58  209  32  233  171  137  \n",
       "\n",
       "[2 rows x 26 columns]"
      ]
     },
     "execution_count": 3,
     "metadata": {},
     "output_type": "execute_result"
    }
   ],
   "source": [
    "df['Z'] = df[\"A\"] + df[\"C\"]\n",
    "df\n"
   ]
  },
  {
   "cell_type": "code",
   "execution_count": 17,
   "id": "1c98243d",
   "metadata": {},
   "outputs": [
    {
     "data": {
      "text/plain": [
       "<AxesSubplot:ylabel='Frequency'>"
      ]
     },
     "execution_count": 17,
     "metadata": {},
     "output_type": "execute_result"
    },
    {
     "data": {
      "image/png": "[encoded data removed]",
      "text/plain": [
       "<Figure size 432x288 with 1 Axes>"
      ]
     },
     "metadata": {
      "needs_background": "light"
     },
     "output_type": "display_data"
    }
   ],
   "source": [
    "df['A'].plot.hist(bins=124)\n",
    "                 "
   ]
  },
  {
   "cell_type": "code",
   "execution_count": 18,
   "id": "6a745f43",
   "metadata": {},
   "outputs": [],
   "source": [
    "import seaborn as sns"
   ]
  },
  {
   "cell_type": "code",
   "execution_count": 6,
   "id": "f326a8b5",
   "metadata": {},
   "outputs": [
    {
     "data": {
      "text/plain": [
       "<seaborn.axisgrid.FacetGrid at 0x7f84e626d370>"
      ]
     },
     "execution_count": 6,
     "metadata": {},
     "output_type": "execute_result"
    },
    {
     "data": {
      "image/png": "[encoded data removed]",
      "text/plain": [
       "<Figure size 360x360 with 1 Axes>"
      ]
     },
     "metadata": {
      "needs_background": "light"
     },
     "output_type": "display_data"
    }
   ],
   "source": [
    "sns.displot(df['A'])"
   ]
  },
  {
   "cell_type": "code",
   "execution_count": 7,
   "id": "8fb4e8ec",
   "metadata": {},
   "outputs": [
    {
     "name": "stdout",
     "output_type": "stream",
     "text": [
      "A    176.0\n",
      "B    106.5\n",
      "C     54.0\n",
      "D    140.5\n",
      "E     85.5\n",
      "F    102.0\n",
      "G     49.0\n",
      "H    194.5\n",
      "I    181.0\n",
      "J    151.0\n",
      "K     36.0\n",
      "L    119.5\n",
      "M     38.5\n",
      "N    209.0\n",
      "O    216.5\n",
      "P    153.0\n",
      "Q    156.5\n",
      "R     79.5\n",
      "S    124.0\n",
      "T    144.0\n",
      "U    139.0\n",
      "V    172.0\n",
      "W     61.0\n",
      "X    137.5\n",
      "Y    127.0\n",
      "Z    230.0\n",
      "dtype: float64\n",
      "     A    B   C    D   E    F   G    H    I    J  ...    Q    R    S    T  \\\n",
      "0  128   78   9  138  84   28  23  175  180  143  ...  117   36  120  133   \n",
      "1  224  135  99  143  87  176  75  214  182  159  ...  196  123  128  155   \n",
      "\n",
      "     U    V   W    X    Y    Z  \n",
      "0   58  135  32   42   83  137  \n",
      "1  220  209  90  233  171  323  \n",
      "\n",
      "[2 rows x 26 columns]\n",
      "A     67.882251\n",
      "B     40.305087\n",
      "C     63.639610\n",
      "D      3.535534\n",
      "E      2.121320\n",
      "F    104.651804\n",
      "G     36.769553\n",
      "H     27.577164\n",
      "I      1.414214\n",
      "J     11.313708\n",
      "K     11.313708\n",
      "L     13.435029\n",
      "M     44.547727\n",
      "N     14.142136\n",
      "O     23.334524\n",
      "P    130.107648\n",
      "Q     55.861436\n",
      "R     61.518290\n",
      "S      5.656854\n",
      "T     15.556349\n",
      "U    114.551299\n",
      "V     52.325902\n",
      "W     41.012193\n",
      "X    135.057395\n",
      "Y     62.225397\n",
      "Z    131.521861\n",
      "dtype: float64\n"
     ]
    }
   ],
   "source": [
    "print(df.mean())\n",
    "print(df.mode())\n",
    "print(df.std())"
   ]
  },
  {
   "cell_type": "code",
   "execution_count": 8,
   "id": "02e5edb7",
   "metadata": {},
   "outputs": [
    {
     "data": {
      "text/html": [
       "<div>\n",
       "<style scoped>\n",
       "    .dataframe tbody tr th:only-of-type {\n",
       "        vertical-align: middle;\n",
       "    }\n",
       "\n",
       "    .dataframe tbody tr th {\n",
       "        vertical-align: top;\n",
       "    }\n",
       "\n",
       "    .dataframe thead th {\n",
       "        text-align: right;\n",
       "    }\n",
       "</style>\n",
       "<table border=\"1\" class=\"dataframe\">\n",
       "  <thead>\n",
       "    <tr style=\"text-align: right;\">\n",
       "      <th></th>\n",
       "      <th>A</th>\n",
       "      <th>B</th>\n",
       "      <th>C</th>\n",
       "      <th>D</th>\n",
       "      <th>E</th>\n",
       "      <th>F</th>\n",
       "      <th>G</th>\n",
       "      <th>H</th>\n",
       "      <th>I</th>\n",
       "      <th>J</th>\n",
       "      <th>...</th>\n",
       "      <th>Q</th>\n",
       "      <th>R</th>\n",
       "      <th>S</th>\n",
       "      <th>T</th>\n",
       "      <th>U</th>\n",
       "      <th>V</th>\n",
       "      <th>W</th>\n",
       "      <th>X</th>\n",
       "      <th>Y</th>\n",
       "      <th>Z</th>\n",
       "    </tr>\n",
       "  </thead>\n",
       "  <tbody>\n",
       "    <tr>\n",
       "      <th>0</th>\n",
       "      <td>224</td>\n",
       "      <td>135</td>\n",
       "      <td>99</td>\n",
       "      <td>138</td>\n",
       "      <td>84</td>\n",
       "      <td>176</td>\n",
       "      <td>23</td>\n",
       "      <td>175</td>\n",
       "      <td>180</td>\n",
       "      <td>159</td>\n",
       "      <td>...</td>\n",
       "      <td>196</td>\n",
       "      <td>123</td>\n",
       "      <td>128</td>\n",
       "      <td>155</td>\n",
       "      <td>220</td>\n",
       "      <td>135</td>\n",
       "      <td>90</td>\n",
       "      <td>42</td>\n",
       "      <td>83</td>\n",
       "      <td>323</td>\n",
       "    </tr>\n",
       "    <tr>\n",
       "      <th>1</th>\n",
       "      <td>128</td>\n",
       "      <td>78</td>\n",
       "      <td>9</td>\n",
       "      <td>143</td>\n",
       "      <td>87</td>\n",
       "      <td>28</td>\n",
       "      <td>75</td>\n",
       "      <td>214</td>\n",
       "      <td>182</td>\n",
       "      <td>143</td>\n",
       "      <td>...</td>\n",
       "      <td>117</td>\n",
       "      <td>36</td>\n",
       "      <td>120</td>\n",
       "      <td>133</td>\n",
       "      <td>58</td>\n",
       "      <td>209</td>\n",
       "      <td>32</td>\n",
       "      <td>233</td>\n",
       "      <td>171</td>\n",
       "      <td>137</td>\n",
       "    </tr>\n",
       "  </tbody>\n",
       "</table>\n",
       "<p>2 rows × 26 columns</p>\n",
       "</div>"
      ],
      "text/plain": [
       "     A    B   C    D   E    F   G    H    I    J  ...    Q    R    S    T  \\\n",
       "0  224  135  99  138  84  176  23  175  180  159  ...  196  123  128  155   \n",
       "1  128   78   9  143  87   28  75  214  182  143  ...  117   36  120  133   \n",
       "\n",
       "     U    V   W    X    Y    Z  \n",
       "0  220  135  90   42   83  323  \n",
       "1   58  209  32  233  171  137  \n",
       "\n",
       "[2 rows x 26 columns]"
      ]
     },
     "execution_count": 8,
     "metadata": {},
     "output_type": "execute_result"
    }
   ],
   "source": [
    "df.to_csv('mids.csv',index=False,sep = '#' ) \n",
    "df"
   ]
  },
  {
   "cell_type": "code",
   "execution_count": 9,
   "id": "757b192e",
   "metadata": {},
   "outputs": [
    {
     "data": {
      "text/html": [
       "<div>\n",
       "<style scoped>\n",
       "    .dataframe tbody tr th:only-of-type {\n",
       "        vertical-align: middle;\n",
       "    }\n",
       "\n",
       "    .dataframe tbody tr th {\n",
       "        vertical-align: top;\n",
       "    }\n",
       "\n",
       "    .dataframe thead th {\n",
       "        text-align: right;\n",
       "    }\n",
       "</style>\n",
       "<table border=\"1\" class=\"dataframe\">\n",
       "  <thead>\n",
       "    <tr style=\"text-align: right;\">\n",
       "      <th></th>\n",
       "      <th>A</th>\n",
       "      <th>B</th>\n",
       "      <th>C</th>\n",
       "      <th>D</th>\n",
       "      <th>E</th>\n",
       "      <th>F</th>\n",
       "      <th>G</th>\n",
       "      <th>H</th>\n",
       "      <th>I</th>\n",
       "      <th>J</th>\n",
       "      <th>...</th>\n",
       "      <th>Q</th>\n",
       "      <th>R</th>\n",
       "      <th>S</th>\n",
       "      <th>T</th>\n",
       "      <th>U</th>\n",
       "      <th>V</th>\n",
       "      <th>W</th>\n",
       "      <th>X</th>\n",
       "      <th>Y</th>\n",
       "      <th>Z</th>\n",
       "    </tr>\n",
       "  </thead>\n",
       "  <tbody>\n",
       "    <tr>\n",
       "      <th>0</th>\n",
       "      <td>224</td>\n",
       "      <td>135</td>\n",
       "      <td>99</td>\n",
       "      <td>138</td>\n",
       "      <td>84</td>\n",
       "      <td>176</td>\n",
       "      <td>23</td>\n",
       "      <td>175</td>\n",
       "      <td>180</td>\n",
       "      <td>159</td>\n",
       "      <td>...</td>\n",
       "      <td>196</td>\n",
       "      <td>123</td>\n",
       "      <td>128</td>\n",
       "      <td>155</td>\n",
       "      <td>220</td>\n",
       "      <td>135</td>\n",
       "      <td>90</td>\n",
       "      <td>42</td>\n",
       "      <td>83</td>\n",
       "      <td>323</td>\n",
       "    </tr>\n",
       "    <tr>\n",
       "      <th>1</th>\n",
       "      <td>128</td>\n",
       "      <td>78</td>\n",
       "      <td>9</td>\n",
       "      <td>143</td>\n",
       "      <td>87</td>\n",
       "      <td>28</td>\n",
       "      <td>75</td>\n",
       "      <td>214</td>\n",
       "      <td>182</td>\n",
       "      <td>143</td>\n",
       "      <td>...</td>\n",
       "      <td>117</td>\n",
       "      <td>36</td>\n",
       "      <td>120</td>\n",
       "      <td>133</td>\n",
       "      <td>58</td>\n",
       "      <td>209</td>\n",
       "      <td>32</td>\n",
       "      <td>233</td>\n",
       "      <td>171</td>\n",
       "      <td>137</td>\n",
       "    </tr>\n",
       "  </tbody>\n",
       "</table>\n",
       "<p>2 rows × 26 columns</p>\n",
       "</div>"
      ],
      "text/plain": [
       "     A    B   C    D   E    F   G    H    I    J  ...    Q    R    S    T  \\\n",
       "0  224  135  99  138  84  176  23  175  180  159  ...  196  123  128  155   \n",
       "1  128   78   9  143  87   28  75  214  182  143  ...  117   36  120  133   \n",
       "\n",
       "     U    V   W    X    Y    Z  \n",
       "0  220  135  90   42   83  323  \n",
       "1   58  209  32  233  171  137  \n",
       "\n",
       "[2 rows x 26 columns]"
      ]
     },
     "execution_count": 9,
     "metadata": {},
     "output_type": "execute_result"
    }
   ],
   "source": [
    "df_r = pd.read_csv(\"mids.csv\", delimiter='#')\n",
    "df_r"
   ]
  },
  {
   "cell_type": "code",
   "execution_count": 10,
   "id": "2bfcf2eb",
   "metadata": {},
   "outputs": [
    {
     "data": {
      "text/html": [
       "<div>\n",
       "<style scoped>\n",
       "    .dataframe tbody tr th:only-of-type {\n",
       "        vertical-align: middle;\n",
       "    }\n",
       "\n",
       "    .dataframe tbody tr th {\n",
       "        vertical-align: top;\n",
       "    }\n",
       "\n",
       "    .dataframe thead th {\n",
       "        text-align: right;\n",
       "    }\n",
       "</style>\n",
       "<table border=\"1\" class=\"dataframe\">\n",
       "  <thead>\n",
       "    <tr style=\"text-align: right;\">\n",
       "      <th></th>\n",
       "      <th>index</th>\n",
       "      <th>A</th>\n",
       "      <th>B</th>\n",
       "      <th>C</th>\n",
       "      <th>D</th>\n",
       "      <th>E</th>\n",
       "      <th>F</th>\n",
       "      <th>G</th>\n",
       "      <th>H</th>\n",
       "      <th>I</th>\n",
       "      <th>...</th>\n",
       "      <th>Q</th>\n",
       "      <th>R</th>\n",
       "      <th>S</th>\n",
       "      <th>T</th>\n",
       "      <th>U</th>\n",
       "      <th>V</th>\n",
       "      <th>W</th>\n",
       "      <th>X</th>\n",
       "      <th>Y</th>\n",
       "      <th>Z</th>\n",
       "    </tr>\n",
       "  </thead>\n",
       "  <tbody>\n",
       "    <tr>\n",
       "      <th>0</th>\n",
       "      <td>0</td>\n",
       "      <td>224</td>\n",
       "      <td>135</td>\n",
       "      <td>99</td>\n",
       "      <td>138</td>\n",
       "      <td>84</td>\n",
       "      <td>176</td>\n",
       "      <td>23</td>\n",
       "      <td>175</td>\n",
       "      <td>180</td>\n",
       "      <td>...</td>\n",
       "      <td>196</td>\n",
       "      <td>123</td>\n",
       "      <td>128</td>\n",
       "      <td>155</td>\n",
       "      <td>220</td>\n",
       "      <td>135</td>\n",
       "      <td>90</td>\n",
       "      <td>42</td>\n",
       "      <td>83</td>\n",
       "      <td>323</td>\n",
       "    </tr>\n",
       "    <tr>\n",
       "      <th>1</th>\n",
       "      <td>1</td>\n",
       "      <td>128</td>\n",
       "      <td>78</td>\n",
       "      <td>9</td>\n",
       "      <td>143</td>\n",
       "      <td>87</td>\n",
       "      <td>28</td>\n",
       "      <td>75</td>\n",
       "      <td>214</td>\n",
       "      <td>182</td>\n",
       "      <td>...</td>\n",
       "      <td>117</td>\n",
       "      <td>36</td>\n",
       "      <td>120</td>\n",
       "      <td>133</td>\n",
       "      <td>58</td>\n",
       "      <td>209</td>\n",
       "      <td>32</td>\n",
       "      <td>233</td>\n",
       "      <td>171</td>\n",
       "      <td>137</td>\n",
       "    </tr>\n",
       "  </tbody>\n",
       "</table>\n",
       "<p>2 rows × 27 columns</p>\n",
       "</div>"
      ],
      "text/plain": [
       "   index    A    B   C    D   E    F   G    H    I  ...    Q    R    S    T  \\\n",
       "0      0  224  135  99  138  84  176  23  175  180  ...  196  123  128  155   \n",
       "1      1  128   78   9  143  87   28  75  214  182  ...  117   36  120  133   \n",
       "\n",
       "     U    V   W    X    Y    Z  \n",
       "0  220  135  90   42   83  323  \n",
       "1   58  209  32  233  171  137  \n",
       "\n",
       "[2 rows x 27 columns]"
      ]
     },
     "execution_count": 10,
     "metadata": {},
     "output_type": "execute_result"
    }
   ],
   "source": [
    "df.reset_index()"
   ]
  },
  {
   "cell_type": "code",
   "execution_count": 11,
   "id": "3ad472ca",
   "metadata": {},
   "outputs": [
    {
     "data": {
      "text/html": [
       "<div>\n",
       "<style scoped>\n",
       "    .dataframe tbody tr th:only-of-type {\n",
       "        vertical-align: middle;\n",
       "    }\n",
       "\n",
       "    .dataframe tbody tr th {\n",
       "        vertical-align: top;\n",
       "    }\n",
       "\n",
       "    .dataframe thead th {\n",
       "        text-align: right;\n",
       "    }\n",
       "</style>\n",
       "<table border=\"1\" class=\"dataframe\">\n",
       "  <thead>\n",
       "    <tr style=\"text-align: right;\">\n",
       "      <th></th>\n",
       "      <th>A</th>\n",
       "      <th>B</th>\n",
       "      <th>C</th>\n",
       "      <th>D</th>\n",
       "      <th>E</th>\n",
       "      <th>F</th>\n",
       "      <th>G</th>\n",
       "      <th>H</th>\n",
       "      <th>I</th>\n",
       "      <th>J</th>\n",
       "      <th>...</th>\n",
       "      <th>Q</th>\n",
       "      <th>R</th>\n",
       "      <th>S</th>\n",
       "      <th>T</th>\n",
       "      <th>U</th>\n",
       "      <th>V</th>\n",
       "      <th>W</th>\n",
       "      <th>X</th>\n",
       "      <th>Y</th>\n",
       "      <th>Z</th>\n",
       "    </tr>\n",
       "  </thead>\n",
       "  <tbody>\n",
       "    <tr>\n",
       "      <th>0</th>\n",
       "      <td>224</td>\n",
       "      <td>135</td>\n",
       "      <td>99</td>\n",
       "      <td>138</td>\n",
       "      <td>84</td>\n",
       "      <td>176</td>\n",
       "      <td>23</td>\n",
       "      <td>175</td>\n",
       "      <td>180</td>\n",
       "      <td>159</td>\n",
       "      <td>...</td>\n",
       "      <td>196</td>\n",
       "      <td>123</td>\n",
       "      <td>128</td>\n",
       "      <td>155</td>\n",
       "      <td>220</td>\n",
       "      <td>135</td>\n",
       "      <td>90</td>\n",
       "      <td>42</td>\n",
       "      <td>83</td>\n",
       "      <td>323</td>\n",
       "    </tr>\n",
       "    <tr>\n",
       "      <th>1</th>\n",
       "      <td>128</td>\n",
       "      <td>78</td>\n",
       "      <td>9</td>\n",
       "      <td>143</td>\n",
       "      <td>87</td>\n",
       "      <td>28</td>\n",
       "      <td>75</td>\n",
       "      <td>214</td>\n",
       "      <td>182</td>\n",
       "      <td>143</td>\n",
       "      <td>...</td>\n",
       "      <td>117</td>\n",
       "      <td>36</td>\n",
       "      <td>120</td>\n",
       "      <td>133</td>\n",
       "      <td>58</td>\n",
       "      <td>209</td>\n",
       "      <td>32</td>\n",
       "      <td>233</td>\n",
       "      <td>171</td>\n",
       "      <td>137</td>\n",
       "    </tr>\n",
       "  </tbody>\n",
       "</table>\n",
       "<p>2 rows × 26 columns</p>\n",
       "</div>"
      ],
      "text/plain": [
       "     A    B   C    D   E    F   G    H    I    J  ...    Q    R    S    T  \\\n",
       "0  224  135  99  138  84  176  23  175  180  159  ...  196  123  128  155   \n",
       "1  128   78   9  143  87   28  75  214  182  143  ...  117   36  120  133   \n",
       "\n",
       "     U    V   W    X    Y    Z  \n",
       "0  220  135  90   42   83  323  \n",
       "1   58  209  32  233  171  137  \n",
       "\n",
       "[2 rows x 26 columns]"
      ]
     },
     "execution_count": 11,
     "metadata": {},
     "output_type": "execute_result"
    }
   ],
   "source": [
    "df = df.reset_index(drop=True)\n",
    "df\n",
    "# print(df.head())"
   ]
  },
  {
   "cell_type": "code",
   "execution_count": 23,
   "id": "f21aac91",
   "metadata": {},
   "outputs": [
    {
     "data": {
      "text/html": [
       "<div>\n",
       "<style scoped>\n",
       "    .dataframe tbody tr th:only-of-type {\n",
       "        vertical-align: middle;\n",
       "    }\n",
       "\n",
       "    .dataframe tbody tr th {\n",
       "        vertical-align: top;\n",
       "    }\n",
       "\n",
       "    .dataframe thead th {\n",
       "        text-align: right;\n",
       "    }\n",
       "</style>\n",
       "<table border=\"1\" class=\"dataframe\">\n",
       "  <thead>\n",
       "    <tr style=\"text-align: right;\">\n",
       "      <th></th>\n",
       "      <th>A</th>\n",
       "      <th>B</th>\n",
       "      <th>C</th>\n",
       "      <th>D</th>\n",
       "      <th>E</th>\n",
       "      <th>F</th>\n",
       "      <th>G</th>\n",
       "      <th>H</th>\n",
       "      <th>I</th>\n",
       "      <th>J</th>\n",
       "      <th>...</th>\n",
       "      <th>Q</th>\n",
       "      <th>R</th>\n",
       "      <th>S</th>\n",
       "      <th>T</th>\n",
       "      <th>U</th>\n",
       "      <th>V</th>\n",
       "      <th>W</th>\n",
       "      <th>X</th>\n",
       "      <th>Y</th>\n",
       "      <th>Z</th>\n",
       "    </tr>\n",
       "  </thead>\n",
       "  <tbody>\n",
       "    <tr>\n",
       "      <th>0</th>\n",
       "      <td>224</td>\n",
       "      <td>135</td>\n",
       "      <td>99</td>\n",
       "      <td>138</td>\n",
       "      <td>84</td>\n",
       "      <td>176</td>\n",
       "      <td>23</td>\n",
       "      <td>175</td>\n",
       "      <td>180</td>\n",
       "      <td>159</td>\n",
       "      <td>...</td>\n",
       "      <td>196</td>\n",
       "      <td>123</td>\n",
       "      <td>128</td>\n",
       "      <td>155</td>\n",
       "      <td>220</td>\n",
       "      <td>135</td>\n",
       "      <td>90</td>\n",
       "      <td>42</td>\n",
       "      <td>83</td>\n",
       "      <td>323</td>\n",
       "    </tr>\n",
       "    <tr>\n",
       "      <th>1</th>\n",
       "      <td>128</td>\n",
       "      <td>78</td>\n",
       "      <td>9</td>\n",
       "      <td>143</td>\n",
       "      <td>87</td>\n",
       "      <td>28</td>\n",
       "      <td>75</td>\n",
       "      <td>214</td>\n",
       "      <td>182</td>\n",
       "      <td>143</td>\n",
       "      <td>...</td>\n",
       "      <td>117</td>\n",
       "      <td>36</td>\n",
       "      <td>120</td>\n",
       "      <td>133</td>\n",
       "      <td>58</td>\n",
       "      <td>209</td>\n",
       "      <td>32</td>\n",
       "      <td>233</td>\n",
       "      <td>171</td>\n",
       "      <td>137</td>\n",
       "    </tr>\n",
       "  </tbody>\n",
       "</table>\n",
       "<p>2 rows × 26 columns</p>\n",
       "</div>"
      ],
      "text/plain": [
       "     A    B   C    D   E    F   G    H    I    J  ...    Q    R    S    T  \\\n",
       "0  224  135  99  138  84  176  23  175  180  159  ...  196  123  128  155   \n",
       "1  128   78   9  143  87   28  75  214  182  143  ...  117   36  120  133   \n",
       "\n",
       "     U    V   W    X    Y    Z  \n",
       "0  220  135  90   42   83  323  \n",
       "1   58  209  32  233  171  137  \n",
       "\n",
       "[2 rows x 26 columns]"
      ]
     },
     "execution_count": 23,
     "metadata": {},
     "output_type": "execute_result"
    }
   ],
   "source": [
    "df_r.head(10)"
   ]
  },
  {
   "cell_type": "code",
   "execution_count": 13,
   "id": "b9168ec2",
   "metadata": {},
   "outputs": [
    {
     "data": {
      "text/plain": [
       "Index(['A', 'B', 'C', 'D', 'E', 'F', 'G', 'H', 'I', 'J', 'K', 'L', 'M', 'N',\n",
       "       'O', 'P', 'Q', 'R', 'S', 'T', 'U', 'V', 'W', 'X', 'Y', 'Z'],\n",
       "      dtype='object')"
      ]
     },
     "execution_count": 13,
     "metadata": {},
     "output_type": "execute_result"
    }
   ],
   "source": [
    "df.columns"
   ]
  },
  {
   "cell_type": "code",
   "execution_count": 14,
   "id": "fd3b4e67",
   "metadata": {},
   "outputs": [
    {
     "data": {
      "text/plain": [
       "0    26\n",
       "1    26\n",
       "dtype: int64"
      ]
     },
     "execution_count": 14,
     "metadata": {},
     "output_type": "execute_result"
    }
   ],
   "source": [
    "df.count('columns')"
   ]
  },
  {
   "cell_type": "code",
   "execution_count": null,
   "id": "c2798ef1",
   "metadata": {},
   "outputs": [],
   "source": [
    "# QUESTION NO.2"
   ]
  },
  {
   "cell_type": "code",
   "execution_count": 115,
   "id": "1609b865",
   "metadata": {},
   "outputs": [],
   "source": [
    "class Ball:\n",
    "    def __init__(self,diameter):\n",
    "        self.diameter=diameter\n",
    "    def getarea(self):\n",
    "        return f\"the area of the ball is {self.diameter**2*3.142} in centimeters\"\n",
    "class BlueBall(Ball):\n",
    "    def __init__(self,diameter,colour,box):\n",
    "        super().__init__(diameter)\n",
    "        self.colour=colour\n",
    "        self.box=box\n",
    "#         self.material=material\n",
    "    def hascolor(self):\n",
    "        return f\"the ball has a {self.colour} color \"\n",
    "    def hasarea(self):\n",
    "        return f\"the {self.colour} ball has a area of {self.diameter**2*3} in centimeters\"\n",
    "    def inthebox(self):\n",
    "        return f\"the {self.colour} ball is in the  {self.box} which is made up of wood\"\n",
    "        \n",
    "\n",
    "class Box:\n",
    "    def __init__(self,width,height,length):\n",
    "        self.width=width\n",
    "        self.height=height\n",
    "        self.length=length \n",
    "    def getArea(self):\n",
    "        return f\"the total area of a box is {self.height+self.length+self.width} in cubic meteres\"\n",
    "    def getWidth(self):\n",
    "        return self.width\n",
    "    def getHeight(self):\n",
    "        return self.height\n",
    "class Woodenbox(Box):\n",
    "    def __init__(self,width,height,length,material):\n",
    "        super().__init__(width,height,length)\n",
    "        self.material=material\n",
    "        \n",
    "    def getmaterial(self):\n",
    "        return f\"the material of the box is {self.material}\"  \n",
    "    \n",
    "    def set_blue_ball(self, blueball: BlueBall):\n",
    "        self.ball = blueball \n",
    "    def get_blue_ball(self):\n",
    "        return self.ball\n",
    "\n",
    "    \n",
    "\n"
   ]
  },
  {
   "cell_type": "code",
   "execution_count": 116,
   "id": "2fa63668",
   "metadata": {},
   "outputs": [],
   "source": [
    "woodbox=Woodenbox(width='2',length=\"1\",height=\"3\",material=\"wood\")"
   ]
  },
  {
   "cell_type": "code",
   "execution_count": 110,
   "id": "a7662ef3",
   "metadata": {},
   "outputs": [
    {
     "data": {
      "text/plain": [
       "'the total area of a box is 312 in cubic meteres'"
      ]
     },
     "execution_count": 110,
     "metadata": {},
     "output_type": "execute_result"
    }
   ],
   "source": [
    "woodbox.getArea()"
   ]
  },
  {
   "cell_type": "code",
   "execution_count": 111,
   "id": "b18e960e",
   "metadata": {},
   "outputs": [
    {
     "data": {
      "text/plain": [
       "'the material of the box is wood'"
      ]
     },
     "execution_count": 111,
     "metadata": {},
     "output_type": "execute_result"
    }
   ],
   "source": [
    "woodbox.getmaterial()"
   ]
  },
  {
   "cell_type": "code",
   "execution_count": 112,
   "id": "2a6c4856",
   "metadata": {},
   "outputs": [],
   "source": [
    "blueball=BlueBall(1,\"blue\",\"Box\")"
   ]
  },
  {
   "cell_type": "code",
   "execution_count": 113,
   "id": "605b1c2e",
   "metadata": {},
   "outputs": [
    {
     "data": {
      "text/plain": [
       "'the blue ball has a area of 3 in centimeters'"
      ]
     },
     "execution_count": 113,
     "metadata": {},
     "output_type": "execute_result"
    }
   ],
   "source": [
    "blueball.hasarea()"
   ]
  },
  {
   "cell_type": "code",
   "execution_count": 114,
   "id": "a4d6d0f9",
   "metadata": {},
   "outputs": [
    {
     "data": {
      "text/plain": [
       "'the blue ball is in the  Box which is made up of wood'"
      ]
     },
     "execution_count": 114,
     "metadata": {},
     "output_type": "execute_result"
    }
   ],
   "source": [
    "blueball.inthebox()"
   ]
  },
  {
   "cell_type": "code",
   "execution_count": null,
   "id": "e731e6e1",
   "metadata": {},
   "outputs": [],
   "source": []
  },
  {
   "cell_type": "code",
   "execution_count": null,
   "id": "1d21d188",
   "metadata": {},
   "outputs": [],
   "source": []
  },
  {
   "cell_type": "code",
   "execution_count": null,
   "id": "c3227e68",
   "metadata": {},
   "outputs": [],
   "source": []
  },
  {
   "cell_type": "code",
   "execution_count": null,
   "id": "c6d117fb",
   "metadata": {},
   "outputs": [],
   "source": []
  },
  {
   "cell_type": "code",
   "execution_count": null,
   "id": "e714f07e",
   "metadata": {},
   "outputs": [],
   "source": []
  },
  {
   "cell_type": "markdown",
   "id": "96b1e0fe",
   "metadata": {},
   "source": [
    "# QUESTION NO.3"
   ]
  },
  {
   "cell_type": "code",
   "execution_count": null,
   "id": "334fd987",
   "metadata": {},
   "outputs": [],
   "source": [
    "huzaifa = open(\"huzaifa.txt\" ,\"r\",encoding='utf-8')\n",
    "huzaifa.readlines()"
   ]
  },
  {
   "cell_type": "code",
   "execution_count": null,
   "id": "f24cf534",
   "metadata": {},
   "outputs": [],
   "source": [
    "def file_copy(enteredfile:str , savingname : str):\n",
    "    \n",
    "    readfile = open(enteredfile,'r')\n",
    "    data = readfile.read()\n",
    "    readfile.close()\n",
    "    \n",
    "    writingfile = open(savingname , 'w')\n",
    "    writingfile.write(data)\n",
    "    writingfile.close()\n",
    "\n"
   ]
  },
  {
   "cell_type": "code",
   "execution_count": null,
   "id": "a759897b",
   "metadata": {},
   "outputs": [],
   "source": [
    "file_copy(\"huzaifa.txt\", \"huzaifa_copy.txt\")"
   ]
  },
  {
   "cell_type": "code",
   "execution_count": null,
   "id": "d01c5747",
   "metadata": {},
   "outputs": [],
   "source": []
  }
 ],
 "metadata": {
  "kernelspec": {
   "display_name": "Python 3 (ipykernel)",
   "language": "python",
   "name": "python3"
  },
  "language_info": {
   "codemirror_mode": {
    "name": "ipython",
    "version": 3
   },
   "file_extension": ".py",
   "mimetype": "text/x-python",
   "name": "python",
   "nbconvert_exporter": "python",
   "pygments_lexer": "ipython3",
   "version": "3.9.7"
  }
 },
 "nbformat": 4,
 "nbformat_minor": 5
}
