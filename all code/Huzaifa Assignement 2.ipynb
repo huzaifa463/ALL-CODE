{
 "cells": [
  {
   "cell_type": "markdown",
   "id": "c4196526",
   "metadata": {},
   "source": [
    "# CONTROL STRUCTURES:\n",
    "        "
   ]
  },
  {
   "cell_type": "markdown",
   "id": "6238baf5",
   "metadata": {},
   "source": [
    "# Question no.1"
   ]
  },
  {
   "cell_type": "code",
   "execution_count": 1,
   "id": "69f591de",
   "metadata": {},
   "outputs": [
    {
     "name": "stdout",
     "output_type": "stream",
     "text": [
      "Enter  a number: 12\n",
      "It is positive number\n"
     ]
    }
   ],
   "source": [
    "num = float(input(\"Enter  a number: \"))\n",
    "if num > 0:\n",
    "    print(\"It is positive number\")\n",
    "elif num == 0:\n",
    "    print(\"It is Zero\")\n",
    "else:\n",
    "    print(\"It is a negative number\")"
   ]
  },
  {
   "cell_type": "markdown",
   "id": "041799bb",
   "metadata": {},
   "source": [
    "# Question no.2"
   ]
  },
  {
   "cell_type": "code",
   "execution_count": 2,
   "id": "f86f2e9b",
   "metadata": {},
   "outputs": [
    {
     "name": "stdout",
     "output_type": "stream",
     "text": [
      "Enter a number: 34\n",
      "it is Even number\n"
     ]
    }
   ],
   "source": [
    "# if we divide a no. and it gives the remainder of 0 then\n",
    "# it is even no.\n",
    "num = int(input(\"Enter a number: \"))  \n",
    "if (num % 2) == 0:  \n",
    "    print(\"it is Even number\")  \n",
    "else:  \n",
    "    print(\"it is Odd number\")  \n"
   ]
  },
  {
   "cell_type": "markdown",
   "id": "0b7a987f",
   "metadata": {},
   "source": [
    "# Question no.3"
   ]
  },
  {
   "cell_type": "code",
   "execution_count": 3,
   "id": "38dc717a",
   "metadata": {},
   "outputs": [
    {
     "name": "stdout",
     "output_type": "stream",
     "text": [
      " Please Enter any Maximum Number : 12\n",
      "1\n",
      "3\n",
      "5\n",
      "7\n",
      "9\n",
      "11\n"
     ]
    }
   ],
   "source": [
    "# For odd numbers first\n",
    "num = int(input(\" Please Enter any Maximum Number : \"))\n",
    "#  maximum means upto what extent we need to proceed\n",
    "for number in range(1, num + 1):\n",
    "    if(number % 2 != 0):\n",
    "        print(format(number))"
   ]
  },
  {
   "cell_type": "code",
   "execution_count": 5,
   "id": "0946b87b",
   "metadata": {},
   "outputs": [
    {
     "name": "stdout",
     "output_type": "stream",
     "text": [
      " Please Enter the Maximum Number : 12\n",
      "2\n",
      "4\n",
      "6\n",
      "8\n",
      "10\n",
      "12\n"
     ]
    }
   ],
   "source": [
    "# For even numbers\n",
    "num = int(input(\" Please Enter the Maximum Number : \"))\n",
    "for number in range(1, num+1):\n",
    "    if(number % 2 == 0):\n",
    "        print(format(number))"
   ]
  },
  {
   "cell_type": "code",
   "execution_count": null,
   "id": "5ac32281",
   "metadata": {},
   "outputs": [],
   "source": [
    "#  It is used in representing certain whitespace characters: \"\\t\" is a tab, \"\\n\" is a newline, and \"\\r\" is a carriage return. Conversely, prefixing a special character with \"\\\" turns it into an ordinary character."
   ]
  },
  {
   "cell_type": "code",
   "execution_count": null,
   "id": "4ed01e16",
   "metadata": {},
   "outputs": [],
   "source": [
    "# if we dont use the  back slashes we cannot \n",
    "# print our output in multiple lines\n",
    "# so for printing the output in multiple lines \n",
    "# we use back slsh with n\n",
    "# likewise \"\\n\""
   ]
  },
  {
   "cell_type": "markdown",
   "id": "160e976f",
   "metadata": {},
   "source": [
    "# Question no.4"
   ]
  },
  {
   "cell_type": "code",
   "execution_count": 9,
   "id": "53c79308",
   "metadata": {},
   "outputs": [
    {
     "name": "stdout",
     "output_type": "stream",
     "text": [
      "Entered  character : ,\n",
      "\n",
      ", the entered character is punctuation .\n"
     ]
    }
   ],
   "source": [
    "given = input(\"Entered  character : \")\n",
    "if given[0].isalpha() :\n",
    "    print(\"\\n\" + given[0], \"the entered character is alphabet.\")\n",
    "elif given[0].isdigit() :\n",
    "    print(\"the entered character is digit.\",\"\\n\" + given[0])\n",
    "else :\n",
    "    print(\"\\n\" + given[0], \"the entered character is punctuation .\")"
   ]
  },
  {
   "cell_type": "markdown",
   "id": "0895313e",
   "metadata": {},
   "source": [
    "# Question no.5"
   ]
  },
  {
   "cell_type": "code",
   "execution_count": 11,
   "id": "8303497b",
   "metadata": {},
   "outputs": [
    {
     "name": "stdout",
     "output_type": "stream",
     "text": [
      "Enter a character: e\n",
      "e is a Vowel\n"
     ]
    }
   ],
   "source": [
    "ch = input(\"Enter a character: \")\n",
    "# ab is mein sb se pehle saare ke saare vowel words likhein\n",
    "# ge oske baad phir hum condition lgaein ge\n",
    "if(ch=='A' or ch=='a' or ch=='E' or ch =='e' or ch=='I'\n",
    " or ch=='i' or ch=='O' or ch=='o' or ch=='U' or ch=='u'):\n",
    "    print(ch, \"is a Vowel\")\n",
    "else:\n",
    "    print(ch, \"is a Consonant\")"
   ]
  },
  {
   "cell_type": "markdown",
   "id": "d26be503",
   "metadata": {},
   "source": [
    "# Question no.6"
   ]
  },
  {
   "cell_type": "code",
   "execution_count": 31,
   "id": "af8a3399",
   "metadata": {},
   "outputs": [
    {
     "name": "stdout",
     "output_type": "stream",
     "text": [
      "Please enter a string : HUZaifa YAmaN\n"
     ]
    }
   ],
   "source": [
    "#Python program to count vowel or consonant of the given string\n",
    "my_str=input(\"Please enter a string : \");\n",
    "vowels=0\n",
    "consonants=0\n"
   ]
  },
  {
   "cell_type": "code",
   "execution_count": 32,
   "id": "14cc78bf",
   "metadata": {},
   "outputs": [
    {
     "name": "stdout",
     "output_type": "stream",
     "text": [
      "The number of vowels: 6\n",
      "\n",
      "The number of consonant: 7\n"
     ]
    }
   ],
   "source": [
    "my_str = my_str.lower()\n",
    "\n",
    "for i in my_str:\n",
    "    if(i == 'a' or i == 'e' or i == 'i' or i == 'o' or i == 'u' ):\n",
    "           vowels=vowels+1;\n",
    "            #vowel counter is incremented by 1\n",
    "    else:\n",
    "        consonants=consonants+1;\n",
    "#consonant counter is incremented by 1\n",
    "print(\"The number of vowels:\",vowels);\n",
    "print(\"\\nThe number of consonant:\",consonants);"
   ]
  },
  {
   "cell_type": "code",
   "execution_count": 30,
   "id": "9db1f2c5",
   "metadata": {},
   "outputs": [
    {
     "name": "stdout",
     "output_type": "stream",
     "text": [
      "huzaifa\n",
      "h  is a consonant\n",
      "u  is a vowel\n",
      "z  is a consonant\n",
      "a  is a vowel\n",
      "i  is a vowel\n",
      "f  is a consonant\n",
      "a  is a vowel\n",
      "Vowels 4\n",
      "Consonants 3\n"
     ]
    }
   ],
   "source": [
    "my_str = input()\n",
    "\n",
    "vowels = ['a','e','i','o','u']\n",
    "vowel_count = 0\n",
    "\n",
    "for charachter in my_str:\n",
    "    if charachter in vowels:\n",
    "        print(charachter, \" is a vowel\")\n",
    "        vowel_count+=1\n",
    "    else:\n",
    "        print(charachter, \" is a consonant\")\n",
    "    \n",
    "print(\"Vowels\", vowel_count)\n",
    "print(\"Consonants\", len(my_str)-vowel_count)"
   ]
  },
  {
   "cell_type": "markdown",
   "id": "deaee9ab",
   "metadata": {},
   "source": [
    "# Question  no.7"
   ]
  },
  {
   "cell_type": "code",
   "execution_count": 24,
   "id": "01f4f288",
   "metadata": {},
   "outputs": [
    {
     "name": "stdout",
     "output_type": "stream",
     "text": [
      "Input a number: 293\n",
      "It is Prime!\n"
     ]
    }
   ],
   "source": [
    "num = int(input(\"Input a number: \"))\n",
    "\n",
    "# if num > 1:\n",
    "#     print(\"It is prime number\")\n",
    "# else:\n",
    "#     print(\"It is not a prime  number\")\n",
    "# # as the prime no.s are divisible only by the no. 1\n",
    "sentinel = True\n",
    "for i in range(1,num+1):\n",
    "    if i!=num and i!=1 and num%i==0:\n",
    "        print(\"It is not a prime number\")\n",
    "        print(i)\n",
    "        sentinel = False\n",
    "        break\n",
    "\n",
    "if sentinel==True: print(\"It is Prime!\")"
   ]
  },
  {
   "cell_type": "markdown",
   "id": "2e6b6e07",
   "metadata": {},
   "source": [
    "# Question no.8"
   ]
  },
  {
   "cell_type": "code",
   "execution_count": 13,
   "id": "b6a7dc07",
   "metadata": {},
   "outputs": [
    {
     "name": "stdout",
     "output_type": "stream",
     "text": [
      "Please, Enter the Value: 8\n",
      "The Prime Numbers in the range are: \n",
      "2\n",
      "3\n",
      "5\n",
      "7\n"
     ]
    }
   ],
   "source": [
    "given_num = int(input (\"Please, Enter the Value: \")) \n",
    "print (\"The Prime Numbers in the range are: \")  \n",
    "for number in range (given_num + 1):  \n",
    "    if number > 1:  \n",
    "        for i in range (2, number):  \n",
    "            if (number % i) == 0:  \n",
    "                break  \n",
    "        else:  \n",
    "            print (number)"
   ]
  },
  {
   "cell_type": "markdown",
   "id": "98780eb2",
   "metadata": {},
   "source": [
    "# Question no.9/"
   ]
  },
  {
   "cell_type": "code",
   "execution_count": 16,
   "id": "56512028",
   "metadata": {},
   "outputs": [
    {
     "name": "stdout",
     "output_type": "stream",
     "text": [
      "Enter Year: 2006\n",
      "2006 is not a Leap Year\n"
     ]
    }
   ],
   "source": [
    "# a year which has 366 days is a leap year \n",
    "year = int(input(\"Enter Year: \"))\n",
    "if year % 4 == 0 and year % 100 != 0:\n",
    "    print(year, \"is a Leap Year\")\n",
    "elif year % 100 == 0:\n",
    "    print(year, \"is not a Leap Year\")\n",
    "elif year % 400 ==0:\n",
    "    print(year, \"is a Leap Year\")\n",
    "    \n",
    "else:\n",
    "    print(year, \"is not a Leap Year\")"
   ]
  },
  {
   "cell_type": "markdown",
   "id": "f30105e9",
   "metadata": {},
   "source": [
    "# Question no.10"
   ]
  },
  {
   "cell_type": "code",
   "execution_count": 25,
   "id": "274b3cdf",
   "metadata": {},
   "outputs": [],
   "source": [
    "# Program to check if a string is palindrome\n",
    "# a word which reads as same when it is reversed\n",
    "my_str = 'huzaifa'\n",
    "my_str = my_str.casefold()"
   ]
  },
  {
   "cell_type": "code",
   "execution_count": 26,
   "id": "334e4b84",
   "metadata": {},
   "outputs": [],
   "source": [
    "rev_str = reversed(my_str)"
   ]
  },
  {
   "cell_type": "code",
   "execution_count": 27,
   "id": "2f3109f9",
   "metadata": {},
   "outputs": [
    {
     "name": "stdout",
     "output_type": "stream",
     "text": [
      "The string is not a palindrome.\n"
     ]
    }
   ],
   "source": [
    "if list(my_str) == list(rev_str):\n",
    "   print(\"The string is a palindrome.\")\n",
    "else:\n",
    "   print(\"The string is not a palindrome.\")"
   ]
  },
  {
   "cell_type": "markdown",
   "id": "b389259d",
   "metadata": {},
   "source": [
    "# Question no.11/"
   ]
  },
  {
   "cell_type": "code",
   "execution_count": 1,
   "id": "f5663034",
   "metadata": {},
   "outputs": [
    {
     "name": "stdout",
     "output_type": "stream",
     "text": [
      "The factorial of 4 is 24\n"
     ]
    }
   ],
   "source": [
    "num = 4\n",
    "factorial = 1\n",
    "if num < 0:\n",
    "    print(\"Sorry, factorial does not exist for negative numbers\")\n",
    "elif num == 0:\n",
    "    print(\"The factorial of 0 is 1\")\n",
    "else:\n",
    "    for i in range(1,num + 1):\n",
    "        factorial = factorial*i\n",
    "    print(\"The factorial of\",num,\"is\",factorial)"
   ]
  },
  {
   "cell_type": "markdown",
   "id": "d76ce409",
   "metadata": {},
   "source": [
    "# Question no.12"
   ]
  },
  {
   "cell_type": "code",
   "execution_count": 85,
   "id": "57b84242",
   "metadata": {},
   "outputs": [
    {
     "name": "stdout",
     "output_type": "stream",
     "text": [
      "How many terms? 10\n",
      "Fibonacci sequence:\n",
      "0\n",
      "1\n",
      "1\n",
      "2\n",
      "3\n",
      "5\n",
      "8\n",
      "13\n",
      "21\n",
      "34\n"
     ]
    }
   ],
   "source": [
    "# Program to display the Fibonacci sequence up to n-th term\n",
    "\n",
    "nterms = int(input(\"How many terms? \"))\n",
    "\n",
    "# first two terms\n",
    "n1, n2 = 0, 1\n",
    "count = 0\n",
    "\n",
    "# check if the number of terms is valid\n",
    "if nterms <= 0:\n",
    "   print(\"Please enter a positive integer\")\n",
    "# if there is only one term, return n1\n",
    "elif nterms == 1:\n",
    "   print(\"Fibonacci sequence upto\",nterms,\":\")\n",
    "   print(n1)\n",
    "# generate fibonacci sequence\n",
    "else:\n",
    "   print(\"Fibonacci sequence:\")\n",
    "   while count < nterms:\n",
    "       print(n1)\n",
    "       nth = n1 + n2\n",
    "       # update values\n",
    "       n1 = n2\n",
    "       n2 = nth\n",
    "       count += 1"
   ]
  },
  {
   "cell_type": "markdown",
   "id": "dee82d35",
   "metadata": {},
   "source": [
    "# Question no.13"
   ]
  },
  {
   "cell_type": "code",
   "execution_count": 2,
   "id": "d066a2d7",
   "metadata": {},
   "outputs": [
    {
     "name": "stdout",
     "output_type": "stream",
     "text": [
      "Enter your percentage:32\n",
      "Your grade is: D\n"
     ]
    }
   ],
   "source": [
    "percent_marks = float(input(\"Enter your percentage:\"))\n",
    "if percent_marks >=80 :\n",
    "    print(\"Your grade is A :\")\n",
    "elif percent_marks >=60 :\n",
    "    print(\"Your grade is B :\")\n",
    "elif percent_marks >=40 :\n",
    "    print(\"Your grade is C\")\n",
    "else :\n",
    "    print(\"Your grade is:\", \"D\")"
   ]
  },
  {
   "cell_type": "markdown",
   "id": "dcf2ba69",
   "metadata": {},
   "source": [
    "# Question no.14"
   ]
  },
  {
   "cell_type": "code",
   "execution_count": 5,
   "id": "beb9f1ee",
   "metadata": {},
   "outputs": [
    {
     "name": "stdout",
     "output_type": "stream",
     "text": [
      "Please ENter a Point having three axis: (12,56,78)\n"
     ]
    }
   ],
   "source": [
    " point = input(\"Please ENter a Point having three axis: \")"
   ]
  },
  {
   "cell_type": "code",
   "execution_count": 6,
   "id": "6e05e7fc",
   "metadata": {},
   "outputs": [
    {
     "data": {
      "text/plain": [
       "'(12,56,78)'"
      ]
     },
     "execution_count": 6,
     "metadata": {},
     "output_type": "execute_result"
    }
   ],
   "source": [
    "point\n"
   ]
  },
  {
   "cell_type": "code",
   "execution_count": 7,
   "id": "77f88e28",
   "metadata": {},
   "outputs": [],
   "source": [
    "values = point.split(\",\")"
   ]
  },
  {
   "cell_type": "code",
   "execution_count": 8,
   "id": "8c277fa1",
   "metadata": {},
   "outputs": [
    {
     "name": "stdout",
     "output_type": "stream",
     "text": [
      "0\n",
      "(12\n",
      "(12  lies on x-axis\n",
      "1\n",
      "56\n",
      "56  lies on y-axis\n",
      "2\n",
      "78)\n",
      "78)  lies on z-axis\n"
     ]
    }
   ],
   "source": [
    "for axis_index in range(len(values)):\n",
    "    print(axis_index)\n",
    "    axis_value = values[axis_index]\n",
    "    print(axis_value)\n",
    "    \n",
    "    if axis_index==0:\n",
    "        print(axis_value, \" lies on x-axis\")\n",
    "    elif axis_index==1:\n",
    "        print(axis_value, \" lies on y-axis\")\n",
    "    else:\n",
    "        print(axis_value, \" lies on z-axis\")"
   ]
  },
  {
   "cell_type": "markdown",
   "id": "2a05d1d6",
   "metadata": {},
   "source": [
    "# Question no.15"
   ]
  },
  {
   "cell_type": "code",
   "execution_count": 1,
   "id": "c6fd4b88",
   "metadata": {},
   "outputs": [
    {
     "name": "stdout",
     "output_type": "stream",
     "text": [
      "enter x1 : 8\n",
      "enter x2 : 7\n",
      "enter y1 : 6\n",
      "enter y2 : 9\n",
      "distance between (8, 7) and (6, 9) is :  3.1622776601683795\n"
     ]
    }
   ],
   "source": [
    "import math\n",
    "x1=int(input(\"enter x1 : \"))\n",
    "\n",
    "x2=int(input(\"enter x2 : \"))\n",
    "\n",
    "y1=int(input(\"enter y1 : \"))\n",
    "\n",
    "y2=int(input(\"enter y2 : \"))\n",
    "# yha pr simple distance ka formula lage ga\n",
    "result= ((((x2 - x1 )**2) + ((y2-y1)**2) )**0.5)\n",
    "\n",
    "print(\"distance between\",(x1,x2),\"and\",(y1,y2),\"is : \",result)\n"
   ]
  },
  {
   "cell_type": "markdown",
   "id": "97872d73",
   "metadata": {},
   "source": [
    "# Question no.16"
   ]
  },
  {
   "cell_type": "code",
   "execution_count": 13,
   "id": "158aa5a3",
   "metadata": {},
   "outputs": [
    {
     "name": "stdout",
     "output_type": "stream",
     "text": [
      "x:2\n",
      "y:2\n",
      "z:2\n",
      "Enter triangle sides :\n",
      "Equilateral triangle :\n"
     ]
    }
   ],
   "source": [
    "x = int(input(\"x:\"))\n",
    "y = int(input(\"y:\"))\n",
    "z = int(input(\"z:\"))\n",
    "print(\"Enter triangle sides :\")\n",
    "if x==y==z :\n",
    "    print(\"Equilateral triangle :\")\n",
    "elif x==y or y==z or x==z :\n",
    "    print(\"Isoceles triangle :\")\n",
    "else :\n",
    "    print(\"scalene triangle :\")\n",
    "\n",
    "    "
   ]
  },
  {
   "cell_type": "markdown",
   "id": "847b8f4f",
   "metadata": {},
   "source": [
    "# Question no.17"
   ]
  },
  {
   "cell_type": "code",
   "execution_count": 1,
   "id": "7c3ea4c2",
   "metadata": {},
   "outputs": [
    {
     "name": "stdout",
     "output_type": "stream",
     "text": [
      "Enter a number : 4\n",
      "Enter a number : 4\n",
      "Enter a number : done\n",
      "all done\n",
      "8.0 2 4.0\n"
     ]
    }
   ],
   "source": [
    "num = 0\n",
    "tot = 0.0\n",
    "while True:\n",
    "    user = input(\"Enter a number : \")\n",
    "    if user == 'done':\n",
    "        break\n",
    "    try :\n",
    "        num1 = float(user)\n",
    "    except:\n",
    "        print('Invailed Input')\n",
    "        continue\n",
    "    num = num+1\n",
    "    tot = tot + num1\n",
    "print ('all done')\n",
    "print (tot,num,tot/num)\n",
    "    "
   ]
  },
  {
   "cell_type": "code",
   "execution_count": null,
   "id": "765dd662",
   "metadata": {},
   "outputs": [],
   "source": []
  },
  {
   "cell_type": "code",
   "execution_count": null,
   "id": "346d2d7f",
   "metadata": {},
   "outputs": [],
   "source": []
  },
  {
   "cell_type": "code",
   "execution_count": null,
   "id": "f7f16b45",
   "metadata": {},
   "outputs": [],
   "source": []
  },
  {
   "cell_type": "code",
   "execution_count": 4,
   "id": "b34fb56c",
   "metadata": {},
   "outputs": [
    {
     "data": {
      "text/plain": [
       "43"
      ]
     },
     "execution_count": 4,
     "metadata": {},
     "output_type": "execute_result"
    }
   ],
   "source": [
    "my_string = (\"my name is huzaifa yaman and i am a student\")\n",
    "my_string2 = (\"i am a programmer of python :\")\n",
    "\n",
    "# my_string = my_string.split(' ')\n",
    "# my_string2 = my_string2.split(' ')\n",
    "# for item in my_string:\n",
    "#     for thing in my_string:\n",
    "#         if item == thing :\n",
    "#             print(item)\n",
    "#             print(thing)\n",
    "#             break\n",
    "len(my_string)\n"
   ]
  },
  {
   "cell_type": "code",
   "execution_count": 23,
   "id": "dd8c7651",
   "metadata": {},
   "outputs": [
    {
     "name": "stdout",
     "output_type": "stream",
     "text": [
      "5 x 1 = 5\n",
      "5 x 2 = 10\n",
      "5 x 3 = 15\n",
      "5 x 4 = 20\n",
      "5 x 5 = 25\n",
      "5 x 6 = 30\n",
      "5 x 7 = 35\n",
      "5 x 8 = 40\n",
      "5 x 9 = 45\n",
      "5 x 10 = 50\n"
     ]
    }
   ],
   "source": [
    "num = 5\n",
    "for i in range(1, 11):\n",
    "   print(num, 'x', i, '=', num*i)"
   ]
  },
  {
   "cell_type": "code",
   "execution_count": 24,
   "id": "ec2f938e",
   "metadata": {},
   "outputs": [
    {
     "name": "stdout",
     "output_type": "stream",
     "text": [
      "Alphabet from a-z:\n",
      "a b c d e f g h i j k l m n o p q r s t u v w x y z "
     ]
    }
   ],
   "source": [
    "import string\n",
    "print(\"Alphabet from a-z:\")\n",
    "for letter in string.ascii_lowercase:\n",
    "   print(letter, end =\" \")"
   ]
  },
  {
   "cell_type": "code",
   "execution_count": null,
   "id": "50272584",
   "metadata": {},
   "outputs": [],
   "source": []
  },
  {
   "cell_type": "code",
   "execution_count": null,
   "id": "5b2197e4",
   "metadata": {},
   "outputs": [],
   "source": []
  },
  {
   "cell_type": "code",
   "execution_count": 6,
   "id": "bff8beae",
   "metadata": {},
   "outputs": [],
   "source": [
    "# question is that we want to loop through the string and break at the \n",
    "# condition or common word in the string and also count the common words "
   ]
  },
  {
   "cell_type": "code",
   "execution_count": 7,
   "id": "b29d48ef",
   "metadata": {},
   "outputs": [],
   "source": [
    "my_string = (\"my name is huzaifa yaman and i am the student of bscs:\")\n",
    "my_string=str(my_string)"
   ]
  },
  {
   "cell_type": "code",
   "execution_count": 10,
   "id": "9c6f26e8",
   "metadata": {},
   "outputs": [],
   "source": [
    "my_string1=list(my_string)"
   ]
  },
  {
   "cell_type": "code",
   "execution_count": 12,
   "id": "d1e8c27f",
   "metadata": {},
   "outputs": [
    {
     "data": {
      "text/plain": [
       "11"
      ]
     },
     "execution_count": 12,
     "metadata": {},
     "output_type": "execute_result"
    }
   ],
   "source": [
    "my_string.count(' ')"
   ]
  },
  {
   "cell_type": "code",
   "execution_count": 14,
   "id": "b2f6badb",
   "metadata": {},
   "outputs": [],
   "source": [
    "my_string.split(' ')\n",
    "new_string=set(my_string)"
   ]
  },
  {
   "cell_type": "code",
   "execution_count": 18,
   "id": "7709c022",
   "metadata": {},
   "outputs": [
    {
     "data": {
      "text/plain": [
       "{' ',\n",
       " ':',\n",
       " 'a',\n",
       " 'b',\n",
       " 'c',\n",
       " 'd',\n",
       " 'e',\n",
       " 'f',\n",
       " 'h',\n",
       " 'i',\n",
       " 'm',\n",
       " 'n',\n",
       " 'o',\n",
       " 's',\n",
       " 't',\n",
       " 'u',\n",
       " 'y',\n",
       " 'z'}"
      ]
     },
     "execution_count": 18,
     "metadata": {},
     "output_type": "execute_result"
    }
   ],
   "source": [
    "new_string"
   ]
  },
  {
   "cell_type": "code",
   "execution_count": 19,
   "id": "c87bf307",
   "metadata": {},
   "outputs": [],
   "source": [
    "my_string1=str(new_string)"
   ]
  },
  {
   "cell_type": "code",
   "execution_count": 20,
   "id": "96499a47",
   "metadata": {},
   "outputs": [
    {
     "data": {
      "text/plain": [
       "\"{' ', 'm', 'o', 'n', 'y', 'd', 'a', 'z', 's', 'c', 'e', ':', 'u', 'f', 'h', 't', 'b', 'i'}\""
      ]
     },
     "execution_count": 20,
     "metadata": {},
     "output_type": "execute_result"
    }
   ],
   "source": [
    "my_string1"
   ]
  },
  {
   "cell_type": "code",
   "execution_count": 22,
   "id": "458ed7d9",
   "metadata": {},
   "outputs": [
    {
     "name": "stdout",
     "output_type": "stream",
     "text": [
      "my_string: 18\n"
     ]
    }
   ],
   "source": [
    "new_one=my_string1.count(' ')\n",
    "print(\"my_string:\",new_one)"
   ]
  },
  {
   "cell_type": "code",
   "execution_count": null,
   "id": "3f8188dd",
   "metadata": {},
   "outputs": [],
   "source": []
  },
  {
   "cell_type": "code",
   "execution_count": null,
   "id": "15ee18c9",
   "metadata": {},
   "outputs": [],
   "source": []
  },
  {
   "cell_type": "code",
   "execution_count": null,
   "id": "72916a2b",
   "metadata": {},
   "outputs": [],
   "source": []
  },
  {
   "cell_type": "code",
   "execution_count": null,
   "id": "ac25261c",
   "metadata": {},
   "outputs": [],
   "source": []
  },
  {
   "cell_type": "code",
   "execution_count": null,
   "id": "b0a3cd38",
   "metadata": {},
   "outputs": [],
   "source": []
  },
  {
   "cell_type": "code",
   "execution_count": null,
   "id": "d7bfa6e2",
   "metadata": {},
   "outputs": [],
   "source": []
  }
 ],
 "metadata": {
  "kernelspec": {
   "display_name": "Python 3 (ipykernel)",
   "language": "python",
   "name": "python3"
  },
  "language_info": {
   "codemirror_mode": {
    "name": "ipython",
    "version": 3
   },
   "file_extension": ".py",
   "mimetype": "text/x-python",
   "name": "python",
   "nbconvert_exporter": "python",
   "pygments_lexer": "ipython3",
   "version": "3.9.7"
  }
 },
 "nbformat": 4,
 "nbformat_minor": 5
}
