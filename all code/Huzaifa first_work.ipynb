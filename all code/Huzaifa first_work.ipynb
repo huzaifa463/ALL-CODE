{
 "cells": [
  {
   "cell_type": "code",
   "execution_count": null,
   "id": "fce98abd",
   "metadata": {},
   "outputs": [],
   "source": [
    "# sum of variables \n",
    "x = 5\n",
    "y = 6\n",
    "z = x + y\n",
    "print(z)"
   ]
  },
  {
   "cell_type": "code",
   "execution_count": null,
   "id": "4781bd81",
   "metadata": {},
   "outputs": [],
   "source": [
    "# subtraction\n",
    "x = 6 \n",
    "y = 7\n",
    "z = x - y\n",
    "print(z)"
   ]
  },
  {
   "cell_type": "code",
   "execution_count": null,
   "id": "414c4505",
   "metadata": {},
   "outputs": [],
   "source": [
    "# modulus \n",
    "x = 9\n",
    "y = 10\n",
    "z = x % y\n",
    "print(z)"
   ]
  },
  {
   "cell_type": "code",
   "execution_count": null,
   "id": "cdf6cbe9",
   "metadata": {},
   "outputs": [],
   "source": [
    "# divide \n",
    "x = 20\n",
    "y = 56\n",
    "z = x / y\n",
    "print(z)"
   ]
  },
  {
   "cell_type": "code",
   "execution_count": null,
   "id": "d5bd6069",
   "metadata": {},
   "outputs": [],
   "source": [
    "# multiplication\n",
    "x = 90\n",
    "y = 178\n",
    "z = x * y\n",
    "print(z)"
   ]
  },
  {
   "cell_type": "code",
   "execution_count": null,
   "id": "4fbb7bea",
   "metadata": {},
   "outputs": [],
   "source": [
    "data = {1,2,4,7,8,10,8,9,6}\n",
    "# len(data)\n",
    "men = []\n",
    "women = []\n",
    "for position in range (len(data));\n",
    "if position % 2 == 0:\n",
    "    else men == 2\n",
    "    print()"
   ]
  },
  {
   "cell_type": "code",
   "execution_count": null,
   "id": "42ad1fee",
   "metadata": {},
   "outputs": [],
   "source": [
    "ahmed_name = \"ahmed\""
   ]
  },
  {
   "cell_type": "code",
   "execution_count": null,
   "id": "1a698931",
   "metadata": {},
   "outputs": [],
   "source": [
    "ahmed_name\n"
   ]
  },
  {
   "cell_type": "code",
   "execution_count": null,
   "id": "14faa837",
   "metadata": {},
   "outputs": [],
   "source": [
    "s = \"hello world\""
   ]
  },
  {
   "cell_type": "code",
   "execution_count": null,
   "id": "e21e08be",
   "metadata": {},
   "outputs": [],
   "source": [
    "s.isalnum()"
   ]
  },
  {
   "cell_type": "code",
   "execution_count": null,
   "id": "44c85cb5",
   "metadata": {},
   "outputs": [],
   "source": [
    "s.isnumeric()"
   ]
  },
  {
   "cell_type": "code",
   "execution_count": null,
   "id": "f0ff5dca",
   "metadata": {},
   "outputs": [],
   "source": [
    "s.capitalize()"
   ]
  },
  {
   "cell_type": "code",
   "execution_count": null,
   "id": "56b3d050",
   "metadata": {},
   "outputs": [],
   "source": [
    "s.upper()"
   ]
  },
  {
   "cell_type": "code",
   "execution_count": null,
   "id": "9cd92814",
   "metadata": {},
   "outputs": [],
   "source": [
    "s.lower()"
   ]
  },
  {
   "cell_type": "code",
   "execution_count": null,
   "id": "c462e1b1",
   "metadata": {},
   "outputs": [],
   "source": [
    "z = '6'"
   ]
  },
  {
   "cell_type": "code",
   "execution_count": null,
   "id": "74517b2e",
   "metadata": {},
   "outputs": [],
   "source": [
    "z"
   ]
  },
  {
   "cell_type": "code",
   "execution_count": null,
   "id": "9d534715",
   "metadata": {},
   "outputs": [],
   "source": [
    "y = 6"
   ]
  },
  {
   "cell_type": "code",
   "execution_count": null,
   "id": "396b285d",
   "metadata": {},
   "outputs": [],
   "source": [
    "y"
   ]
  },
  {
   "cell_type": "code",
   "execution_count": null,
   "id": "a1d4362e",
   "metadata": {},
   "outputs": [],
   "source": [
    "s = 'hello'"
   ]
  },
  {
   "cell_type": "code",
   "execution_count": null,
   "id": "92181b27",
   "metadata": {},
   "outputs": [],
   "source": [
    "s"
   ]
  },
  {
   "cell_type": "code",
   "execution_count": null,
   "id": "fc153147",
   "metadata": {},
   "outputs": [],
   "source": [
    "s = [3]"
   ]
  },
  {
   "cell_type": "code",
   "execution_count": null,
   "id": "0d54631c",
   "metadata": {},
   "outputs": [],
   "source": [
    "s"
   ]
  },
  {
   "cell_type": "code",
   "execution_count": null,
   "id": "aaad2dc0",
   "metadata": {},
   "outputs": [],
   "source": [
    "s = 'hello'"
   ]
  },
  {
   "cell_type": "code",
   "execution_count": null,
   "id": "968a96fc",
   "metadata": {},
   "outputs": [],
   "source": [
    "s"
   ]
  },
  {
   "cell_type": "code",
   "execution_count": null,
   "id": "f519212a",
   "metadata": {},
   "outputs": [],
   "source": [
    "s = 'itxmehuzaifa63@gmail.com'\n",
    "s.split('63')"
   ]
  },
  {
   "cell_type": "code",
   "execution_count": null,
   "id": "edb64259",
   "metadata": {},
   "outputs": [],
   "source": [
    "1>2\n"
   ]
  },
  {
   "cell_type": "markdown",
   "id": "8de44092",
   "metadata": {},
   "source": [
    "2<3"
   ]
  },
  {
   "cell_type": "code",
   "execution_count": null,
   "id": "7fd30edc",
   "metadata": {},
   "outputs": [],
   "source": [
    "3<=4"
   ]
  },
  {
   "cell_type": "code",
   "execution_count": null,
   "id": "7a07e694",
   "metadata": {},
   "outputs": [],
   "source": [
    "-4<=4"
   ]
  },
  {
   "cell_type": "code",
   "execution_count": null,
   "id": "c509876c",
   "metadata": {},
   "outputs": [],
   "source": [
    "'abc' =='abc'"
   ]
  },
  {
   "cell_type": "code",
   "execution_count": null,
   "id": "8def69d2",
   "metadata": {},
   "outputs": [],
   "source": [
    "1 == 1"
   ]
  },
  {
   "cell_type": "code",
   "execution_count": null,
   "id": "d4db1053",
   "metadata": {},
   "outputs": [],
   "source": [
    "my_list = [1,2,3,]"
   ]
  },
  {
   "cell_type": "code",
   "execution_count": null,
   "id": "acaa76f9",
   "metadata": {},
   "outputs": [],
   "source": [
    "x = 65\n",
    "y = 68\n",
    "z = y+x\n",
    "print(z)"
   ]
  },
  {
   "cell_type": "code",
   "execution_count": null,
   "id": "bd97dda7",
   "metadata": {
    "scrolled": true
   },
   "outputs": [],
   "source": [
    "import statistics\n",
    "data = [1,2,4,6,5,8,6,4,9]\n",
    "\n",
    "men = []\n",
    "women = []\n",
    "\n",
    "for position in range (len(data)):\n",
    "# print postion()\n",
    "   if position%2==0:\n",
    "        men.append(data[position])\n",
    "        else:\n",
    "            women.append(data[position])\n",
    "        \n",
    "print(\"Rating of MEN are: \",men)\n",
    "print()"
   ]
  },
  {
   "cell_type": "code",
   "execution_count": null,
   "id": "b8e071cc",
   "metadata": {},
   "outputs": [],
   "source": [
    "# Q1: Write a program that uses input to prompt a user for their name and then welcomes them.\n",
    "# Enter your name: Chuck\n",
    "# Hello Chuck\n",
    "print('please enter the name')"
   ]
  },
  {
   "cell_type": "code",
   "execution_count": null,
   "id": "1318228b",
   "metadata": {},
   "outputs": [],
   "source": [
    "user_name = (input(\"Enter your name:\"))\n",
    "print(\"Hello\")"
   ]
  },
  {
   "cell_type": "code",
   "execution_count": null,
   "id": "e57e7323",
   "metadata": {},
   "outputs": [],
   "source": [
    "# name = input('Enter your name:')\n",
    "# print ('Hello'), name"
   ]
  },
  {
   "cell_type": "code",
   "execution_count": null,
   "id": "8703d1ee",
   "metadata": {},
   "outputs": [],
   "source": [
    "# Q2: Write a program to prompt the user for hours and rate per\n",
    "# hour to compute gross pay.\n",
    "# Enter Hours: 35\n",
    "# Enter Rate: 2.75\n",
    "# Pay: 96.25\n",
    "# We won’t worry about making sure our pay has exactly two digits after the decimal\n",
    "# place for now. If you want, you can play with the built-in Python round function\n",
    "# to properly round the resulting pay to two decimal places.\n",
    "hours = float(input('Enter Hours:'))\n",
    "rate = float(input('Enter Rate:'))\n",
    "pay = hours * rate\n",
    "print ('Pay ='), pay\n"
   ]
  },
  {
   "cell_type": "code",
   "execution_count": null,
   "id": "d8cdf52e",
   "metadata": {},
   "outputs": [],
   "source": [
    "# Q3: Assume that we execute the following assignment statements:\n",
    "# width = 17\n",
    "# height = 12.0\n",
    "# For each of the following expressions, write the value of the expression and the\n",
    "# type (of the value of the expression).\n",
    "# 1. width//2\n",
    "# 2. width/2.0\n",
    "# 3. height/3\n",
    "# 4. 1 + 2 * 5\n",
    "# Use the Python interpreter to check your answers.\n",
    "width = 17\n",
    "height = 12.0\n",
    "width//2"
   ]
  },
  {
   "cell_type": "code",
   "execution_count": null,
   "id": "c45e0dd4",
   "metadata": {},
   "outputs": [],
   "source": [
    "height/3"
   ]
  },
  {
   "cell_type": "code",
   "execution_count": null,
   "id": "290e523b",
   "metadata": {},
   "outputs": [],
   "source": [
    "1 + 2 * 5"
   ]
  },
  {
   "cell_type": "code",
   "execution_count": null,
   "id": "ee67c75c",
   "metadata": {},
   "outputs": [],
   "source": [
    "# Q4: Write a program which prompts the user for a Celsius temperature, convert the temperature to Fahrenheit, and print out the converted temperature.\n",
    "celsius = float(input(\"Enter the celsius temprature:\"))\n",
    "fahrenheit = (celsius * 9.0/5.0) + 32.0\n",
    "print(\"Temprature in fahrenheit = \",fahrenheit)\n",
    "\n",
    "\n",
    "                   \n"
   ]
  },
  {
   "cell_type": "code",
   "execution_count": null,
   "id": "30676aec",
   "metadata": {},
   "outputs": [],
   "source": [
    "# Q5: Write a program to find if a given number is a perfect square or not.\n",
    "\n",
    "import math\n",
    "number = int(input(\"Enter the Number\"))\n",
    "\n",
    "root = math.sqrt(number)\n",
    "if int(root + 0.5) ** 2 == number:\n",
    "    print(number, \"is a perfect square\")\n",
    "else:\n",
    "    print(number, \"is not a perfect square\")"
   ]
  },
  {
   "cell_type": "code",
   "execution_count": null,
   "id": "d42e1265",
   "metadata": {},
   "outputs": [],
   "source": [
    "# Q6: Write Python statements to calculate and print the simple interest using\n",
    "# variables p, t and r for principal, rate of interest and time duration respectively.\n",
    "P = 300\n",
    "R = 1\n",
    "T = 4\n",
    "Simple_interest = (P * R * T) / 100\n",
    "print(\"The simple interest is:\", Simple_interest)"
   ]
  },
  {
   "cell_type": "code",
   "execution_count": null,
   "id": "6339e4a1",
   "metadata": {},
   "outputs": [],
   "source": [
    "principle=float(input(\"Enter the principle amount:\"))\n",
    "time=int(input(\"Enter the time(years):\"))\n",
    "rate=float(input(\"Enter the rate:\"))\n",
    "Simple_interest=(principle*time*rate)/100\n",
    "print(\"The simple interest is:\",Simple_interest)"
   ]
  },
  {
   "cell_type": "code",
   "execution_count": null,
   "id": "11d6d51e",
   "metadata": {},
   "outputs": [],
   "source": [
    "# Q7: Write Python statements to create 2 complex objects and print their sum, difference and product\n",
    "# Python program to subtract\n",
    "# two complex numbers\n",
    " \n",
    " \n",
    "# function that returns\n",
    "# a complex number after\n",
    "# subtracting\n",
    "def subComplex( z1, z2):\n",
    "    return z1-z2\n",
    " \n",
    "# driver program\n",
    "z1 = complex(2, 3)\n",
    "z2 = complex(1, 2)\n",
    "print( \"Subtraction is : \", subComplex(z1, z2))\n"
   ]
  },
  {
   "cell_type": "code",
   "execution_count": null,
   "id": "72dc4fe2",
   "metadata": {},
   "outputs": [],
   "source": [
    "# Python program to add\n",
    "# two complex numbers\n",
    " \n",
    " \n",
    "# function that returns\n",
    "# a complex number after\n",
    "# adding\n",
    "def addComplex( z1, z2):\n",
    "    return z1 + z2\n",
    " \n",
    "# Driver's code\n",
    "z1 = complex(2, 3)\n",
    "z2 = complex(1, 2)\n",
    "print( \"Addition is : \", addComplex(z1, z2))\n"
   ]
  },
  {
   "cell_type": "code",
   "execution_count": null,
   "id": "d74962bd",
   "metadata": {},
   "outputs": [],
   "source": [
    "# Q8: Write Python statements to convert a complex object from polar to\n",
    "# rectangular coordinates and vice-versa.\n",
    "import cmath\n",
    "cn = complex(3,4)\n",
    "# get polar coordinates\n",
    "print(\"Polar Coordinates: \",cmath.polar(cn))\n",
    "\n",
    "# polar to rectangular. Format for input is (length, ‹angle in radians›).\n",
    "#Returns a complex number\n",
    "cn1 = cmath.rect(2, cmath.pi)\n",
    "print(\"Polar to rectangular: \",cn1)"
   ]
  },
  {
   "cell_type": "code",
   "execution_count": null,
   "id": "776a9cdb",
   "metadata": {
    "scrolled": true
   },
   "outputs": [],
   "source": [
    "# Q9: Write Python statements to accept a string from the user and print it in title-\n",
    "# case.\n",
    "s = \"Enter your name\"\n",
    "s = input(\"enter your name\") \n",
    "s.upper()\n",
    "\n"
   ]
  },
  {
   "cell_type": "code",
   "execution_count": null,
   "id": "1023bb35",
   "metadata": {},
   "outputs": [],
   "source": [
    "# Q1: Take the following Python code that stores a string:\n",
    "# str = 'X-DSPAM-Confidence:0.8475'\n",
    "# Use find and string slicing to extract the portion of the string after the colon character and then use the float function to convert the extracted string into a floating point number."
   ]
  },
  {
   "cell_type": "code",
   "execution_count": null,
   "id": "8b0455ed",
   "metadata": {},
   "outputs": [],
   "source": [
    "str_6 = 'X-DSPAM-Confidence:0.8475'"
   ]
  },
  {
   "cell_type": "code",
   "execution_count": null,
   "id": "49ecd60e",
   "metadata": {},
   "outputs": [],
   "source": [
    "# first way\n",
    "num = str_6[-6:]"
   ]
  },
  {
   "cell_type": "code",
   "execution_count": null,
   "id": "456275dd",
   "metadata": {},
   "outputs": [],
   "source": [
    "num"
   ]
  },
  {
   "cell_type": "code",
   "execution_count": null,
   "id": "751366e6",
   "metadata": {},
   "outputs": [],
   "source": [
    "type(num)"
   ]
  },
  {
   "cell_type": "code",
   "execution_count": null,
   "id": "002eff99",
   "metadata": {},
   "outputs": [],
   "source": [
    "num = float(num)"
   ]
  },
  {
   "cell_type": "code",
   "execution_count": null,
   "id": "1d962ad7",
   "metadata": {},
   "outputs": [],
   "source": [
    "type(num)"
   ]
  },
  {
   "cell_type": "code",
   "execution_count": null,
   "id": "54b200f6",
   "metadata": {},
   "outputs": [],
   "source": [
    "num"
   ]
  },
  {
   "cell_type": "code",
   "execution_count": null,
   "id": "86e8127f",
   "metadata": {},
   "outputs": [],
   "source": [
    "# 2nd way\n",
    "my_li = str_6.split(\":\")"
   ]
  },
  {
   "cell_type": "code",
   "execution_count": null,
   "id": "1f6cbfee",
   "metadata": {},
   "outputs": [],
   "source": [
    "num2 = my_li[1]"
   ]
  },
  {
   "cell_type": "code",
   "execution_count": null,
   "id": "f5f69692",
   "metadata": {},
   "outputs": [],
   "source": [
    "num2 = float(num2)"
   ]
  },
  {
   "cell_type": "code",
   "execution_count": null,
   "id": "83f9531d",
   "metadata": {},
   "outputs": [],
   "source": [
    "type(num2)"
   ]
  },
  {
   "cell_type": "code",
   "execution_count": null,
   "id": "8f9a30fe",
   "metadata": {},
   "outputs": [],
   "source": [
    "num2"
   ]
  },
  {
   "cell_type": "code",
   "execution_count": null,
   "id": "d4614366",
   "metadata": {},
   "outputs": [],
   "source": [
    "str_6 = 'X-DSPAM-Confidence:0.8475'"
   ]
  },
  {
   "cell_type": "code",
   "execution_count": null,
   "id": "119fabe6",
   "metadata": {},
   "outputs": [],
   "source": [
    "first = \"abd\"\n",
    "scnd = \"kjh\"\n",
    "first + scnd"
   ]
  },
  {
   "cell_type": "code",
   "execution_count": null,
   "id": "974aff71",
   "metadata": {},
   "outputs": [],
   "source": [
    "str_6[:8] + str_6[-7:]"
   ]
  },
  {
   "cell_type": "code",
   "execution_count": null,
   "id": "bb71532e",
   "metadata": {},
   "outputs": [],
   "source": [
    "k = str_6.split(\"Confidence\")"
   ]
  },
  {
   "cell_type": "code",
   "execution_count": null,
   "id": "dabc82ac",
   "metadata": {},
   "outputs": [],
   "source": [
    "k[0]+k[1]"
   ]
  },
  {
   "cell_type": "code",
   "execution_count": null,
   "id": "4a915b2c",
   "metadata": {},
   "outputs": [],
   "source": [
    "# Q2: Here is a string in python:\n",
    "# my_str = “Welcome to the Course on Data Science.”\n",
    "# Do the following:\n",
    "# - Split the string’\n",
    "# - Print only first 10 letters\n",
    "# - Make a new string from this, such that it has only these Words: “Welcome Science”"
   ]
  },
  {
   "cell_type": "code",
   "execution_count": null,
   "id": "0dd140b1",
   "metadata": {},
   "outputs": [],
   "source": [
    "# split he string\n",
    "my_str = \"Welcome to the course on data Science.\"\n"
   ]
  },
  {
   "cell_type": "code",
   "execution_count": null,
   "id": "56619ba3",
   "metadata": {},
   "outputs": [],
   "source": [
    "my_str.split()"
   ]
  },
  {
   "cell_type": "code",
   "execution_count": null,
   "id": "c54f6386",
   "metadata": {},
   "outputs": [],
   "source": [
    "my_str[:12]"
   ]
  },
  {
   "cell_type": "code",
   "execution_count": null,
   "id": "e2636564",
   "metadata": {},
   "outputs": [],
   "source": [
    "k = my_str"
   ]
  },
  {
   "cell_type": "code",
   "execution_count": null,
   "id": "b0335e20",
   "metadata": {},
   "outputs": [],
   "source": [
    "k"
   ]
  },
  {
   "cell_type": "code",
   "execution_count": null,
   "id": "3e4e6d55",
   "metadata": {},
   "outputs": [],
   "source": [
    "k = my_str[:7] + my_str[-8:]"
   ]
  },
  {
   "cell_type": "code",
   "execution_count": null,
   "id": "beb68a51",
   "metadata": {},
   "outputs": [],
   "source": [
    "k"
   ]
  },
  {
   "cell_type": "code",
   "execution_count": null,
   "id": "19c008c5",
   "metadata": {},
   "outputs": [],
   "source": [
    "# Q4: Write a Python script to calculate the number of occurrences of a given\n",
    "# character in an any given string."
   ]
  },
  {
   "cell_type": "code",
   "execution_count": null,
   "id": "9694c7b4",
   "metadata": {},
   "outputs": [],
   "source": [
    "my_str=\"My name is Huzaifa\""
   ]
  },
  {
   "cell_type": "code",
   "execution_count": null,
   "id": "aff55973",
   "metadata": {},
   "outputs": [],
   "source": [
    "my_str.count(\"a\")"
   ]
  },
  {
   "cell_type": "code",
   "execution_count": null,
   "id": "b40b1c95",
   "metadata": {},
   "outputs": [],
   "source": [
    "my_str.count(\"m\")"
   ]
  },
  {
   "cell_type": "code",
   "execution_count": null,
   "id": "0cbb7204",
   "metadata": {},
   "outputs": [],
   "source": [
    "my_str.count(\"m\")"
   ]
  },
  {
   "cell_type": "code",
   "execution_count": null,
   "id": "d0abdda4",
   "metadata": {},
   "outputs": [],
   "source": [
    "# Q5: Write a Python script to count the number of occurrences of each word in a\n",
    "# given string."
   ]
  },
  {
   "cell_type": "code",
   "execution_count": null,
   "id": "e5db8f0a",
   "metadata": {},
   "outputs": [],
   "source": [
    "my_str=\"My name is Huzaifa yaman and i belongs to lahore This is my own city i am living here for many years\"\n"
   ]
  },
  {
   "cell_type": "code",
   "execution_count": null,
   "id": "2c8c5239",
   "metadata": {},
   "outputs": [],
   "source": [
    "my_str.count(\"is\")"
   ]
  },
  {
   "cell_type": "code",
   "execution_count": null,
   "id": "95049b84",
   "metadata": {},
   "outputs": [],
   "source": [
    "my_str.count(\"Huzaifa\")"
   ]
  },
  {
   "cell_type": "code",
   "execution_count": null,
   "id": "eadfcc82",
   "metadata": {},
   "outputs": [],
   "source": [
    "# Q6: Write a Python script to form a string out of the first 2 and last 2 characters\n",
    "# from the given string. For example, given the string “I am a student”, the\n",
    "# output expected is “I nt”.\n"
   ]
  },
  {
   "cell_type": "code",
   "execution_count": null,
   "id": "78a72e15",
   "metadata": {},
   "outputs": [],
   "source": [
    "my_str = \"i am a student\""
   ]
  },
  {
   "cell_type": "code",
   "execution_count": null,
   "id": "bb958468",
   "metadata": {},
   "outputs": [],
   "source": [
    "my_str"
   ]
  },
  {
   "cell_type": "code",
   "execution_count": null,
   "id": "020284b7",
   "metadata": {},
   "outputs": [],
   "source": [
    "my_str[:1]"
   ]
  },
  {
   "cell_type": "code",
   "execution_count": null,
   "id": "0769aef0",
   "metadata": {},
   "outputs": [],
   "source": [
    "my_str[:1] + my_str[-2:]"
   ]
  },
  {
   "cell_type": "markdown",
   "id": "6148e44c",
   "metadata": {},
   "source": [
    "# LIST"
   ]
  },
  {
   "cell_type": "markdown",
   "id": "9be7b495",
   "metadata": {},
   "source": [
    "# QUESTION NO.I"
   ]
  },
  {
   "cell_type": "code",
   "execution_count": null,
   "id": "2eafe308",
   "metadata": {},
   "outputs": [],
   "source": [
    "my_list = [\"Huzaifa\",\"Bakr\",\"Ahmed\",\"Hafiz\"]\n",
    "middle = my_list[1:-1]\n",
    "print(middle)"
   ]
  },
  {
   "cell_type": "markdown",
   "id": "674d3d71",
   "metadata": {},
   "source": [
    "# Question No.2"
   ]
  },
  {
   "cell_type": "code",
   "execution_count": null,
   "id": "77d6b7a4",
   "metadata": {},
   "outputs": [],
   "source": [
    "b = [12,21,12,21,34,45,67,89,90,12]"
   ]
  },
  {
   "cell_type": "code",
   "execution_count": null,
   "id": "22aa7971",
   "metadata": {},
   "outputs": [],
   "source": [
    "b = set(b)"
   ]
  },
  {
   "cell_type": "code",
   "execution_count": null,
   "id": "7ac91075",
   "metadata": {},
   "outputs": [],
   "source": [
    "b"
   ]
  },
  {
   "cell_type": "code",
   "execution_count": 11,
   "id": "5807230e",
   "metadata": {},
   "outputs": [
    {
     "name": "stdout",
     "output_type": "stream",
     "text": [
      "Resultant list is : [5, 8, 10, 8, 18]\n"
     ]
    }
   ],
   "source": [
    "test_list1 = [1, 3, 4, 6, 8]\n",
    "test_list2 = [4, 5, 6, 2, 10]\n",
    "  \n",
    "# # printing original lists\n",
    "# print (\"Original list 1 : \" + str(test_list1))\n",
    "# print (\"Original list 2 : \" + str(test_list2))\n",
    "  \n",
    "# using naive method to \n",
    "# add two list \n",
    "res_list = []\n",
    "for i in range(0, len(test_list1)):\n",
    "    res_list.append(test_list1[i] + test_list2[i])\n",
    "  \n",
    "# printing resultant list \n",
    "print (\"Resultant list is : \" + str(res_list))"
   ]
  },
  {
   "cell_type": "code",
   "execution_count": null,
   "id": "f2823ec7",
   "metadata": {},
   "outputs": [],
   "source": []
  },
  {
   "cell_type": "code",
   "execution_count": null,
   "id": "860b6e97",
   "metadata": {},
   "outputs": [],
   "source": []
  },
  {
   "cell_type": "code",
   "execution_count": null,
   "id": "a38f23c3",
   "metadata": {},
   "outputs": [],
   "source": []
  },
  {
   "cell_type": "code",
   "execution_count": null,
   "id": "691bde53",
   "metadata": {},
   "outputs": [],
   "source": []
  },
  {
   "cell_type": "markdown",
   "id": "11587e32",
   "metadata": {},
   "source": [
    "# Question No.3"
   ]
  },
  {
   "cell_type": "code",
   "execution_count": 9,
   "id": "6102db7f",
   "metadata": {},
   "outputs": [
    {
     "data": {
      "text/plain": [
       "[1, 2, 3, 4, 5, 6, 7, 8, 9]"
      ]
     },
     "execution_count": 9,
     "metadata": {},
     "output_type": "execute_result"
    }
   ],
   "source": [
    "a = [1,2,3,4,5]\n",
    "b = [6,7,8,9]\n",
    "c=a+b\n",
    "c"
   ]
  },
  {
   "cell_type": "markdown",
   "id": "ac12cbe5",
   "metadata": {},
   "source": [
    "# Question no.4"
   ]
  },
  {
   "cell_type": "code",
   "execution_count": null,
   "id": "7bf6c273",
   "metadata": {},
   "outputs": [],
   "source": [
    "b = [12,34,56,34,21,78,95,10]"
   ]
  },
  {
   "cell_type": "code",
   "execution_count": null,
   "id": "73d7aa4f",
   "metadata": {},
   "outputs": [],
   "source": [
    "max(b)"
   ]
  },
  {
   "cell_type": "code",
   "execution_count": null,
   "id": "e1f19344",
   "metadata": {},
   "outputs": [],
   "source": [
    "min(b)"
   ]
  },
  {
   "cell_type": "markdown",
   "id": "d1237558",
   "metadata": {},
   "source": [
    "# Question no.5"
   ]
  },
  {
   "cell_type": "code",
   "execution_count": null,
   "id": "248aeb4b",
   "metadata": {},
   "outputs": [],
   "source": [
    "list = [12,34,12,45,65,56,45,45,34,76,34,78,98]"
   ]
  },
  {
   "cell_type": "code",
   "execution_count": null,
   "id": "c014ed71",
   "metadata": {},
   "outputs": [],
   "source": [
    "type(list)"
   ]
  },
  {
   "cell_type": "code",
   "execution_count": null,
   "id": "19c405bb",
   "metadata": {},
   "outputs": [],
   "source": [
    "new_list = set(list)\n",
    "print(new_list)"
   ]
  },
  {
   "cell_type": "markdown",
   "id": "4fa7e614",
   "metadata": {},
   "source": [
    "# Question no.6"
   ]
  },
  {
   "cell_type": "code",
   "execution_count": null,
   "id": "af263be0",
   "metadata": {},
   "outputs": [],
   "source": [
    "a=[1,2,3,4,5,6,7,8,2,3,8,1,0,78,98]\n",
    "(len(a)-len(set(a)))>0\n"
   ]
  },
  {
   "cell_type": "markdown",
   "id": "526dd435",
   "metadata": {},
   "source": [
    "# Question no.7"
   ]
  },
  {
   "cell_type": "code",
   "execution_count": null,
   "id": "05d7c9bb",
   "metadata": {},
   "outputs": [],
   "source": [
    "my_list = [1,2,3,4,5,6,7,8,9]"
   ]
  },
  {
   "cell_type": "code",
   "execution_count": null,
   "id": "092f5861",
   "metadata": {},
   "outputs": [],
   "source": [
    "string = str(my_list)\n",
    "print(string)"
   ]
  },
  {
   "cell_type": "code",
   "execution_count": null,
   "id": "69c23a00",
   "metadata": {},
   "outputs": [],
   "source": [
    "type(string)"
   ]
  },
  {
   "cell_type": "markdown",
   "id": "1792b64b",
   "metadata": {},
   "source": [
    "# Question no.8"
   ]
  },
  {
   "cell_type": "code",
   "execution_count": null,
   "id": "9025c5b5",
   "metadata": {},
   "outputs": [],
   "source": [
    "test_list1 = [1, 2, 4, 3, 5]\n",
    "test_list2 = [1, 2, 4, 3, 5]\n",
    "  \n",
    "print (\"The first list is : \" + str(test_list1))\n",
    "print (\"The second list is : \" + str(test_list2))\n",
    "test_list1.sort()\n",
    "test_list2.sort()\n",
    "if test_list1 == test_list2:\n",
    "    print (\"The lists are identical\")\n",
    "else :\n",
    "    print (\"The lists are not identical\")"
   ]
  },
  {
   "cell_type": "markdown",
   "id": "ea9e76b5",
   "metadata": {},
   "source": [
    "# Question no.9"
   ]
  },
  {
   "cell_type": "code",
   "execution_count": 6,
   "id": "fde74280",
   "metadata": {},
   "outputs": [],
   "source": [
    "my_list=[\"huzaifa\",\"ahmed\",\"awais\",\"huzaifa\",\"ahmed\"]"
   ]
  },
  {
   "cell_type": "code",
   "execution_count": 7,
   "id": "b25a25a2",
   "metadata": {},
   "outputs": [
    {
     "name": "stdout",
     "output_type": "stream",
     "text": [
      "{'ahmed', 'awais', 'huzaifa'}\n"
     ]
    }
   ],
   "source": [
    "new_set=set(my_list)\n",
    "print(new_set)"
   ]
  },
  {
   "cell_type": "markdown",
   "id": "c56a3aab",
   "metadata": {},
   "source": [
    "# Question no.10"
   ]
  },
  {
   "cell_type": "code",
   "execution_count": null,
   "id": "69386f69",
   "metadata": {},
   "outputs": [],
   "source": [
    "b = [1,2,2,2,2,3,3,4,5,6,7,8,9]\n",
    "print(\"the no. of occurences of 2 are:\",b.count(2))\n"
   ]
  },
  {
   "cell_type": "markdown",
   "id": "bcba1908",
   "metadata": {},
   "source": [
    "# Question no.11"
   ]
  },
  {
   "cell_type": "code",
   "execution_count": null,
   "id": "2e5447b9",
   "metadata": {},
   "outputs": [],
   "source": [
    "num = [[1,2,3], [4,5,6], [10,11,12], [7,8,9]]\n",
    "print(max(num, key=sum))"
   ]
  },
  {
   "cell_type": "markdown",
   "id": "6854a564",
   "metadata": {},
   "source": [
    "# Question no.12"
   ]
  },
  {
   "cell_type": "code",
   "execution_count": null,
   "id": "2a700ded",
   "metadata": {},
   "outputs": [],
   "source": [
    "my_list = [\"aaples\",\"banana\",\"mango\"]"
   ]
  },
  {
   "cell_type": "code",
   "execution_count": null,
   "id": "3162645a",
   "metadata": {},
   "outputs": [],
   "source": [
    "my_list1 = str(my_list)\n",
    "print(my_list1)"
   ]
  },
  {
   "cell_type": "code",
   "execution_count": null,
   "id": "86ce1c2c",
   "metadata": {},
   "outputs": [],
   "source": [
    "type(my_list1)"
   ]
  },
  {
   "cell_type": "code",
   "execution_count": null,
   "id": "f19070f1",
   "metadata": {},
   "outputs": [],
   "source": [
    "my_list2= ['huzaifa', 'ahmed', 'awais', 'shoaib']"
   ]
  },
  {
   "cell_type": "code",
   "execution_count": null,
   "id": "eb61f7f7",
   "metadata": {},
   "outputs": [],
   "source": [
    "type(my_list2)"
   ]
  },
  {
   "cell_type": "markdown",
   "id": "a0432507",
   "metadata": {},
   "source": [
    "# Question no.13"
   ]
  },
  {
   "cell_type": "code",
   "execution_count": null,
   "id": "36c0cfc7",
   "metadata": {},
   "outputs": [],
   "source": [
    "b = \"My name is huzaifa\""
   ]
  },
  {
   "cell_type": "code",
   "execution_count": null,
   "id": "5da5ff6b",
   "metadata": {},
   "outputs": [],
   "source": [
    "type(b)"
   ]
  },
  {
   "cell_type": "code",
   "execution_count": null,
   "id": "2177dc55",
   "metadata": {},
   "outputs": [],
   "source": [
    "my_list = list(b)\n",
    "print(my_list)"
   ]
  },
  {
   "cell_type": "code",
   "execution_count": null,
   "id": "160e9bfe",
   "metadata": {},
   "outputs": [],
   "source": [
    "type(my_list)"
   ]
  },
  {
   "cell_type": "markdown",
   "id": "54e00b69",
   "metadata": {},
   "source": [
    "# Question no.14"
   ]
  },
  {
   "cell_type": "code",
   "execution_count": null,
   "id": "c1944989",
   "metadata": {},
   "outputs": [],
   "source": [
    "a = [1,2,3,4,5]\n",
    "b = [6,7,8,9,0]\n",
    "my_list = a+b\n",
    "print(my_list)"
   ]
  },
  {
   "cell_type": "code",
   "execution_count": null,
   "id": "e4c7ced8",
   "metadata": {},
   "outputs": [],
   "source": [
    "type(my_list)"
   ]
  },
  {
   "cell_type": "markdown",
   "id": "44eb45ac",
   "metadata": {},
   "source": [
    "# Question no.15"
   ]
  },
  {
   "cell_type": "code",
   "execution_count": 4,
   "id": "901356d5",
   "metadata": {},
   "outputs": [
    {
     "name": "stdout",
     "output_type": "stream",
     "text": [
      "[['a', 't'], ['b', 'y'], ['c', 'u'], ['d', 'o'], ['e', 'w'], ['f', 'd'], ['g'], ['h'], ['r']]\n"
     ]
    }
   ],
   "source": [
    "t = ['a','b','c','d','e','f','g','h','r','t','y','u','o','w','d']\n",
    "def list_slice(S, step):\n",
    "    return[S[i ::step]for i in range(step)]\n",
    "print(list_slice(t,9))\n",
    "\n",
    "    "
   ]
  },
  {
   "cell_type": "markdown",
   "id": "6659d0bf",
   "metadata": {},
   "source": [
    "# Question no.16"
   ]
  },
  {
   "cell_type": "code",
   "execution_count": null,
   "id": "ba7dd3d4",
   "metadata": {},
   "outputs": [],
   "source": [
    "L = [25,12,2]\n",
    "print(\"Original List: \",L)\n",
    "x = int(\"\".join(map(str, L)))\n",
    "print(\"Single Integer: \",x)"
   ]
  },
  {
   "cell_type": "markdown",
   "id": "9d63ba16",
   "metadata": {},
   "source": [
    "# TUPLES"
   ]
  },
  {
   "cell_type": "markdown",
   "id": "e1138ed8",
   "metadata": {},
   "source": [
    "# Question no.1"
   ]
  },
  {
   "cell_type": "code",
   "execution_count": null,
   "id": "0aad44a9",
   "metadata": {},
   "outputs": [],
   "source": [
    "t = (1,2,3)\n",
    "tuple([(x,)for x in t])"
   ]
  },
  {
   "cell_type": "markdown",
   "id": "bd717e6c",
   "metadata": {},
   "source": [
    "# Question no.2"
   ]
  },
  {
   "cell_type": "code",
   "execution_count": 4,
   "id": "9742dff4",
   "metadata": {},
   "outputs": [
    {
     "name": "stdout",
     "output_type": "stream",
     "text": [
      "3\n"
     ]
    }
   ],
   "source": [
    "#  The Python += operator adds two values together and assigns the final value to a variable\n",
    "huzaifa = [10,20,30,(10,20),40]\n",
    "d = 0\n",
    "for n in huzaifa:\n",
    "    if type(n) == tuple:\n",
    "        break\n",
    "    d += 1\n",
    "print(d)"
   ]
  },
  {
   "cell_type": "markdown",
   "id": "74e6078f",
   "metadata": {},
   "source": [
    "# Question no.3"
   ]
  },
  {
   "cell_type": "code",
   "execution_count": 3,
   "id": "0f904c40",
   "metadata": {},
   "outputs": [
    {
     "name": "stdout",
     "output_type": "stream",
     "text": [
      "(12, 9, 23)\n"
     ]
    }
   ],
   "source": [
    "'''A Lambda Function in Python programming is an anonymous function or a function having no name. It is a small and restricted function having no more than one line. Just like a normal function, a Lambda function can have multiple arguments with one expression.'''\n",
    "a = (10, 4, 5)\n",
    "b = (2, 5, 18)\n",
    "my_tuple = tuple(map(lambda i, j: i + j, a, b))\n",
    "print( str(my_tuple))"
   ]
  },
  {
   "cell_type": "markdown",
   "id": "c3778789",
   "metadata": {},
   "source": [
    "# Question no.4"
   ]
  },
  {
   "cell_type": "code",
   "execution_count": null,
   "id": "87b56a68",
   "metadata": {},
   "outputs": [],
   "source": [
    "# Map in Python is a function that works as an iterator to return a result after applying a function to every item of an iterable (tuple, lists, etc.).\n",
    "a = (15, 24, 25)\n",
    "b = (2, 5, 18)\n",
    "my_tuple = tuple(map(lambda i, j: i * j, a, b))\n",
    "print( str(my_tuple))"
   ]
  },
  {
   "cell_type": "markdown",
   "id": "b1e6b3a8",
   "metadata": {},
   "source": [
    "# SETS"
   ]
  },
  {
   "cell_type": "markdown",
   "id": "cb41ae17",
   "metadata": {},
   "source": [
    "# Question no.1"
   ]
  },
  {
   "cell_type": "code",
   "execution_count": null,
   "id": "1202d5f6",
   "metadata": {},
   "outputs": [],
   "source": [
    "my_set={1,2,3,4,5,6,7,7,8}"
   ]
  },
  {
   "cell_type": "code",
   "execution_count": null,
   "id": "ac2736a5",
   "metadata": {},
   "outputs": [],
   "source": [
    "type(my_set)"
   ]
  },
  {
   "cell_type": "code",
   "execution_count": null,
   "id": "e111de6e",
   "metadata": {},
   "outputs": [],
   "source": [
    "3 in my_set"
   ]
  },
  {
   "cell_type": "markdown",
   "id": "358ead4f",
   "metadata": {},
   "source": [
    "# Question no.2"
   ]
  },
  {
   "cell_type": "code",
   "execution_count": 1,
   "id": "96c02f9b",
   "metadata": {},
   "outputs": [
    {
     "name": "stdout",
     "output_type": "stream",
     "text": [
      "{1, 2, 3, 4, 5, 6, 7, 8, 9}\n"
     ]
    }
   ],
   "source": [
    "my_list = [1,2,3,4,5,6,7,8,9,2,3,4,5,6,7,8,9]\n",
    "my_set = set(my_list)\n",
    "print(my_set)"
   ]
  },
  {
   "cell_type": "markdown",
   "id": "2261dd0d",
   "metadata": {},
   "source": [
    "# Question no.3"
   ]
  },
  {
   "cell_type": "code",
   "execution_count": null,
   "id": "48b81194",
   "metadata": {},
   "outputs": [],
   "source": [
    "i1= ['179.125.01','234.143.8']\n",
    "i2= ['179.125.01']\n",
    "for i in i1:\n",
    "    if i in i2:\n",
    "        print(\"Found\")\n",
    "        print(i)"
   ]
  },
  {
   "cell_type": "markdown",
   "id": "288a0ca1",
   "metadata": {},
   "source": [
    "# Dictionaries"
   ]
  },
  {
   "cell_type": "markdown",
   "id": "4b9f9640",
   "metadata": {},
   "source": [
    "# Question no.1"
   ]
  },
  {
   "cell_type": "code",
   "execution_count": null,
   "id": "af4c4ebd",
   "metadata": {},
   "outputs": [],
   "source": [
    "my_dict = {\"1234\":\"24\",\"4321\":\"20\",\"5643\":\"25\"}\n",
    "my_dict.keys()"
   ]
  },
  {
   "cell_type": "code",
   "execution_count": null,
   "id": "3ba818cd",
   "metadata": {},
   "outputs": [],
   "source": [
    "my_dict.values()"
   ]
  },
  {
   "cell_type": "code",
   "execution_count": null,
   "id": "5db54471",
   "metadata": {},
   "outputs": [],
   "source": [
    "print(my_dict[\"1234\"])"
   ]
  },
  {
   "cell_type": "code",
   "execution_count": null,
   "id": "263e06ef",
   "metadata": {},
   "outputs": [],
   "source": [
    "print(my_dict[\"4321\"])"
   ]
  },
  {
   "cell_type": "markdown",
   "id": "0a8f51d3",
   "metadata": {},
   "source": [
    "# Question no.2"
   ]
  },
  {
   "cell_type": "code",
   "execution_count": null,
   "id": "6321263c",
   "metadata": {},
   "outputs": [],
   "source": [
    "comm = { 'chair' : 10, 'table' : 22, 'sofa-set': 2, 'tv-unit': 0, 'fan': 10, \n",
    "        'table-lamp': 0, 'iron-box': 0, 'bed': 30 }\n"
   ]
  },
  {
   "cell_type": "code",
   "execution_count": null,
   "id": "082d1daf",
   "metadata": {},
   "outputs": [],
   "source": [
    "price = { 'chair': 2365, 'table': 37752, 'sofa-set': 23299, 'tv-unit': 120344, 'bed': 40226 }"
   ]
  },
  {
   "cell_type": "code",
   "execution_count": null,
   "id": "93ba025d",
   "metadata": {},
   "outputs": [],
   "source": [
    "# Evaluate the income made by the shop owner.\n",
    "# If user enters a commodity that is not available in the shop, display appropriate message.\n",
    "# If user enters a quantity that is beyond the available limit, display the size of \n",
    "# the inventory.\n",
    "# Display the inventory available."
   ]
  },
  {
   "cell_type": "code",
   "execution_count": null,
   "id": "85133b9a",
   "metadata": {},
   "outputs": [],
   "source": [
    "# First we consider the total cash be 0\n",
    "cash = 0\n",
    "# Now by using while loop we can chk the each key and values according to the given condition\n",
    "while True:\n",
    "    entered_commodity = input(\"Plz Enter What You Need: \")\n",
    "    if entered_commodity == \"quit\": \n",
    "        print(\"Thank You For Shopping!\")\n",
    "        break\n",
    "    \n",
    "    quantity = int(input(\"Plz Enter The Quantity:   \"))\n",
    "    if entered_commodity in comm.keys():\n",
    "        print(\"Commoditiy Found\")\n",
    "        if comm[entered_commodity]>0 and quantity<=comm[entered_commodity]:\n",
    "            print(\"In-Stock & Available\")\n",
    "#             purchasing\n",
    "            cash = cash + (price[entered_commodity] * quantity)\n",
    "            print(\"Now Cash is: \", cash)\n",
    "#            inventiry update.\n",
    "            comm[entered_commodity] = comm[entered_commodity] - quantity\n",
    "            print(comm.items())\n",
    "\n",
    "        else:\n",
    "            print(\"Sorry, Out Of Stock OR the Quantity is More than The Available Stock.\")\n",
    "        \n",
    "    else:\n",
    "        print(\"Sorry, We Do Not Have What You Want.\")"
   ]
  },
  {
   "cell_type": "markdown",
   "id": "25617309",
   "metadata": {},
   "source": [
    "# Write a program to find if the given point lies on the x-axis, y-axis or on the origin, given it’s coordinates. e.g: A point is shown like:(x-value, y-value, z-value) for example (12,56,78)"
   ]
  },
  {
   "cell_type": "code",
   "execution_count": 3,
   "id": "63781c31",
   "metadata": {},
   "outputs": [
    {
     "name": "stdout",
     "output_type": "stream",
     "text": [
      "Please ENter a Point having three axis: 2346\n"
     ]
    }
   ],
   "source": [
    "point = input(\"Please ENter a Point having three axis: \")"
   ]
  },
  {
   "cell_type": "code",
   "execution_count": 4,
   "id": "19bee5c4",
   "metadata": {},
   "outputs": [
    {
     "data": {
      "text/plain": [
       "'2346'"
      ]
     },
     "execution_count": 4,
     "metadata": {},
     "output_type": "execute_result"
    }
   ],
   "source": [
    "point"
   ]
  },
  {
   "cell_type": "code",
   "execution_count": 6,
   "id": "d3cc2ab2",
   "metadata": {},
   "outputs": [],
   "source": [
    "values = point.split(\",\")"
   ]
  },
  {
   "cell_type": "code",
   "execution_count": 7,
   "id": "1f8eadb2",
   "metadata": {},
   "outputs": [
    {
     "name": "stdout",
     "output_type": "stream",
     "text": [
      "0\n",
      "2346\n",
      "2346  lies on x-axis\n"
     ]
    }
   ],
   "source": [
    "for axis_index in range(len(values)):\n",
    "    print(axis_index)\n",
    "    axis_value = values[axis_index]\n",
    "    print(axis_value)\n",
    "    \n",
    "    if axis_index==0:\n",
    "        print(axis_value, \" lies on x-axis\")\n",
    "    elif axis_index==1:\n",
    "        print(axis_value, \" lies on y-axis\")\n",
    "    else:\n",
    "        print(axis_value, \" lies on z-axis\")"
   ]
  },
  {
   "cell_type": "code",
   "execution_count": 3,
   "id": "d82edf41",
   "metadata": {},
   "outputs": [
    {
     "ename": "SyntaxError",
     "evalue": "invalid syntax (Temp/ipykernel_8464/2503107518.py, line 3)",
     "output_type": "error",
     "traceback": [
      "\u001b[1;36m  File \u001b[1;32m\"C:\\Users\\HP\\AppData\\Local\\Temp/ipykernel_8464/2503107518.py\"\u001b[1;36m, line \u001b[1;32m3\u001b[0m\n\u001b[1;33m    tuple2=(d*i ,for i in my_tuple)\u001b[0m\n\u001b[1;37m                 ^\u001b[0m\n\u001b[1;31mSyntaxError\u001b[0m\u001b[1;31m:\u001b[0m invalid syntax\n"
     ]
    }
   ],
   "source": [
    "my_tuple=(1,2,3,4)\n",
    "d = 2\n",
    "tuple2=(d*i ,for i in my_tuple)\n",
    "print(tuple2)\n",
    "        "
   ]
  },
  {
   "cell_type": "code",
   "execution_count": null,
   "id": "f32544a7",
   "metadata": {},
   "outputs": [],
   "source": []
  }
 ],
 "metadata": {
  "kernelspec": {
   "display_name": "Python 3 (ipykernel)",
   "language": "python",
   "name": "python3"
  },
  "language_info": {
   "codemirror_mode": {
    "name": "ipython",
    "version": 3
   },
   "file_extension": ".py",
   "mimetype": "text/x-python",
   "name": "python",
   "nbconvert_exporter": "python",
   "pygments_lexer": "ipython3",
   "version": "3.9.7"
  }
 },
 "nbformat": 4,
 "nbformat_minor": 5
}
