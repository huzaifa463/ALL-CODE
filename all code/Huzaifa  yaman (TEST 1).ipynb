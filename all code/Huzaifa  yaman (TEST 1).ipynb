{
 "cells": [
  {
   "cell_type": "markdown",
   "id": "d7d90f6d",
   "metadata": {},
   "source": [
    "# QUESTION NO.1"
   ]
  },
  {
   "cell_type": "code",
   "execution_count": 37,
   "id": "7a5fd541",
   "metadata": {},
   "outputs": [
    {
     "name": "stdout",
     "output_type": "stream",
     "text": [
      "The resultant string is as follows\n",
      "('studying', 'learn', 'and')\n"
     ]
    }
   ],
   "source": [
    "my_str=(\"I am studying hard to learn AI and Bd\")\n",
    "new_str= my_str.split(\" \")\n",
    "s=new_str[2]\n",
    "v=new_str[5]\n",
    "n=new_str[7]\n",
    "d=(s ,v ,n)\n",
    "k = str(d)\n",
    "print(\"The resultant string is as follows\")\n",
    "print(k)"
   ]
  },
  {
   "cell_type": "markdown",
   "id": "992c5f1d",
   "metadata": {},
   "source": [
    "# QUESTION NO.2"
   ]
  },
  {
   "cell_type": "code",
   "execution_count": 14,
   "id": "74dd1046",
   "metadata": {},
   "outputs": [
    {
     "name": "stdout",
     "output_type": "stream",
     "text": [
      "Enter value in Kg  =56\n",
      "the value from kg to pounds is =  123.45760000000001\n"
     ]
    }
   ],
   "source": [
    "user =float(input(\"Enter value in Kg  =\"))\n",
    "pound = user * 2.2046\n",
    "print(\"the value from kg to pounds is = \",pound)"
   ]
  },
  {
   "cell_type": "markdown",
   "id": "b455f3af",
   "metadata": {},
   "source": [
    "# QUESTION NO.3"
   ]
  },
  {
   "cell_type": "code",
   "execution_count": 22,
   "id": "b4a3c9fa",
   "metadata": {},
   "outputs": [
    {
     "name": "stdout",
     "output_type": "stream",
     "text": [
      "please enter your marks :49\n",
      "Failed\n"
     ]
    }
   ],
   "source": [
    "student = int(input(\"please enter your marks :\"))\n",
    "if student > 50 :\n",
    "    print(\"Passed\")\n",
    "else:\n",
    "    print(\"Failed\")"
   ]
  },
  {
   "cell_type": "markdown",
   "id": "8e4f46f4",
   "metadata": {},
   "source": [
    "# QUESTION NO.4"
   ]
  },
  {
   "cell_type": "markdown",
   "id": "f28931b6",
   "metadata": {},
   "source": [
    "# QUESTION NO.4"
   ]
  },
  {
   "cell_type": "code",
   "execution_count": 19,
   "id": "2ee1387a",
   "metadata": {},
   "outputs": [
    {
     "name": "stdout",
     "output_type": "stream",
     "text": [
      "weight: 56\n",
      "bmi: 12\n",
      "height: 6\n",
      "marital status: false\n",
      "Selected\n"
     ]
    }
   ],
   "source": [
    "# user=input(print(\"if you are married type,1,otherwise type ,2\"))\n",
    "# while True:\n",
    "#     if user== \"1\":\n",
    "#         weight = float(input(\"Please enter your weight in Kg's :\"))\n",
    "#         print(weight)\n",
    "#         if weight>50 and weight<100:\n",
    "#             print(\"selected\")\n",
    "# #             break\n",
    "#         else:\n",
    "#             print(\" not selected , don't worry proceed to next step\")\n",
    "#         height = float(input(\"Please enter your height : \"))\n",
    "#         if height >5:\n",
    "#             print(\"selected\")\n",
    "# #             break\n",
    "#         else:\n",
    "#             print(\"not selected , don't worry proceed to next step\")\n",
    "#         BMI = int(input(\"Please eneter your body mass index : \"))\n",
    "#         if BMI >10 and BMI<20 :\n",
    "#             print(\"selected\")\n",
    "# #             break\n",
    "#             print(\"you are selected on married basis\")\n",
    "#             if married ==\"yes\":\n",
    "#                 print(\"you are selected on married basis\")\n",
    "#                 break\n",
    "    \n",
    "# #         else:\n",
    "# #             print(\"selected due to married\")\n",
    "#     elif user==\"2\":\n",
    "#         weight = float(input(\"Please enter your weight in Kg's :\"))\n",
    "#         print(weight)\n",
    "#         if weight>50 and weight<100:\n",
    "#             print(\"condition fulfilled\")\n",
    "# #             break\n",
    "#         else:\n",
    "#             print(\"not fulfilled\")\n",
    "#         height = float(input(\"Please enter your height : \"))\n",
    "#         if height >5:\n",
    "#             print(\"condition fulfilled\")\n",
    "# #             break\n",
    "#         else:\n",
    "#             print(\"condition not fulfilled\")\n",
    "#         BMI = int(input(\"Please eneter your body mass index : \"))\n",
    "#         if BMI >10 and BMI<20 :\n",
    "#             print(\"condition fulfilled\")\n",
    "#             break\n",
    "#         else:\n",
    "#             print(\" from all the above condition if any of the condition is not fulfilled you are not selected\")\n",
    "#             print(\"condition not fulfilled\")\n",
    "weight = float(input(\"weight: \"))\n",
    "bmi = float(input(\"bmi: \"))\n",
    "height = float(input(\"height: \"))\n",
    "status = input(\"marital status: \")\n",
    "\n",
    "con1 =((weight>=50 and weight<=100)and(bmi>10 and bmi<20)and(height>5))\n",
    "con2 =((weight>100 and status==\"married\")or(bmi>20 and status==\"married\")or(height<5 and status==\"married\"))\n",
    "if con1 or con2:\n",
    "    print(\"Selected\")\n",
    "else:\n",
    "    print(\"Not Selected\")\n",
    "\n",
    "\n",
    "        \n",
    "    \n",
    "    \n",
    "    \n",
    "\n",
    "\n",
    "\n",
    "\n",
    "\n",
    "\n",
    "\n",
    "\n",
    "\n",
    "\n",
    "\n",
    "\n",
    "\n",
    "\n",
    "\n",
    "\n",
    "# # if weight>50 and weight<100:\n",
    "# #     print(\"condition fulfilled\")\n",
    "# # else:\n",
    "# #     print(\"not fulfilled\")\n",
    "# #     height = float(input(\"Please enter your height : \"))\n",
    "# #     if height >5:\n",
    "# #         print(\"condition fulfilled\")\n",
    "# #     else:\n",
    "# #         print(\"condition not fulfilled\")\n",
    "# #         BMI = int(input(\"Please eneter your body mass index : \"))\n",
    "# #         if BMI >10 and BMI<20 :\n",
    "# #             print(\"condition fulfilled\")\n",
    "# #         else:\n",
    "# #             print(\"condition not fulfilled\")\n",
    "# #             married=input(\"please enter yes if married and no for single\")\n",
    "# #             if married == \"yes\":\n",
    "# #                 print(\"selected\")\n",
    "# #             elif married ==\"no\":\n",
    "# #                 print(\"to be decided on data basis\")\n",
    "\n",
    "\n"
   ]
  },
  {
   "cell_type": "markdown",
   "id": "6a3165d6",
   "metadata": {},
   "source": [
    "# QUESTION NO.5"
   ]
  },
  {
   "cell_type": "code",
   "execution_count": 5,
   "id": "dac870e6",
   "metadata": {},
   "outputs": [
    {
     "name": "stdout",
     "output_type": "stream",
     "text": [
      "the name of males are :  ['Abdullah', 'Waheed', 'Basim']\n",
      "the names of females are :  ['Tayyaba', 'Fatima', 'Hira']\n"
     ]
    }
   ],
   "source": [
    "my_list=['Abdullah', 'Tayyaba', 'Waheed', 'Fatima', 'Basim', 'Hira']\n",
    "male=[]\n",
    "female=[]\n",
    "for i in range(len(my_list)):\n",
    "    if i%2==0:\n",
    "        male.append(my_list[i])\n",
    "    else:\n",
    "        female.append(my_list[i])\n",
    "print(\"the name of males are : \",male)\n",
    "print(\"the names of females are : \",female)"
   ]
  },
  {
   "cell_type": "markdown",
   "id": "13e43b4d",
   "metadata": {},
   "source": [
    "# QUESTION NO.6"
   ]
  },
  {
   "cell_type": "code",
   "execution_count": 9,
   "id": "46632eab",
   "metadata": {},
   "outputs": [
    {
     "name": "stdout",
     "output_type": "stream",
     "text": [
      "new list is this ['bilal', 'hasan', 'ahmad']\n",
      "number of strings in list1 :  3\n",
      "new list is this ['tokeyo', 'goreyo', 'multan', 'fatima', 'yasmin']\n",
      "number os strings in list2:  5\n"
     ]
    }
   ],
   "source": [
    "my_set={\"hasan\", \"ahmad\", \"bilal\", \"goreyo\", \"tokeyo\", \"multan\", \"fatima\", \"yasmin\"}\n",
    "list1=[]\n",
    "count1=0\n",
    "list2=[]\n",
    "count2=0\n",
    "for i in my_set:\n",
    "    if len(i)==5:                                  \n",
    "        lis1 = list1.append(i)\n",
    "        count1 += 1\n",
    "    else:\n",
    "        lis2 = list2.append(i)\n",
    "        count2+=1\n",
    "print(\"new list is this\",list1)\n",
    "print(\"number of strings in list1 : \",count1)\n",
    "print(\"new list is this\",list2)\n",
    "print(\"number os strings in list2: \",count2)\n"
   ]
  },
  {
   "cell_type": "markdown",
   "id": "b0007135",
   "metadata": {},
   "source": [
    "# QUESTION NO.7"
   ]
  },
  {
   "cell_type": "code",
   "execution_count": null,
   "id": "de88ae19",
   "metadata": {},
   "outputs": [
    {
     "name": "stdout",
     "output_type": "stream",
     "text": [
      "For data entry 1, for data retieval 2, for quit 3: 2\n",
      "Roll No:  urdu\n",
      "Subject Name (urdu, english or python):  urdu\n"
     ]
    }
   ],
   "source": [
    "while True:\n",
    "    choice = input(\"For data entry 1, for data retieval 2, for quit 3: \")\n",
    "    if choice=='1':\n",
    "        roll = input(\"Roll No:  \")\n",
    "        urd = input(\"Ur Marks:  \")\n",
    "        eng = input(\"Eng Marks: \")\n",
    "        pyt = input(\"Py Marks:  \")\n",
    "        data = {roll : {'urdu':urd, 'english':eng, 'python': pyt}}\n",
    "        try:\n",
    "            file = open(\"data.txt\", \"a\", encoding='utf-8')\n",
    "            file.write(str(data)+\"\\n\")\n",
    "            file.close()\n",
    "        except Exception as e:\n",
    "            print(\"File could not be created\")\n",
    "            continue\n",
    "        \n",
    "    elif choice=='2':\n",
    "        try:\n",
    "            roll = input(\"Roll No:  \")\n",
    "            subject = input(\"Subject Name (urdu, english or python):  \")\n",
    "            \n",
    "            file = open(\"data.txt\", \"r\", encoding='utf-8')\n",
    "            for line in file:\n",
    "                line = eval(line)\n",
    "                if roll in line.keys():\n",
    "                    print(line[roll][subject])\n",
    "                    break\n",
    "            \n",
    "            file.close()\n",
    "            \n",
    "        except FileNotFoundError:\n",
    "            print(\"No file found having this name.\")\n",
    "    \n",
    "    elif choice=='3':\n",
    "        print(\"Thank You for using the service\")\n",
    "        break\n",
    "        \n",
    "    else:\n",
    "        print(\"Wrong Input. Try Again Plz\")\n",
    "        "
   ]
  },
  {
   "cell_type": "code",
   "execution_count": null,
   "id": "1684ad38",
   "metadata": {},
   "outputs": [],
   "source": []
  },
  {
   "cell_type": "code",
   "execution_count": null,
   "id": "968fc493",
   "metadata": {},
   "outputs": [],
   "source": []
  },
  {
   "cell_type": "code",
   "execution_count": null,
   "id": "42601ad1",
   "metadata": {},
   "outputs": [],
   "source": []
  },
  {
   "cell_type": "code",
   "execution_count": null,
   "id": "4ca76420",
   "metadata": {},
   "outputs": [],
   "source": []
  }
 ],
 "metadata": {
  "kernelspec": {
   "display_name": "Python 3 (ipykernel)",
   "language": "python",
   "name": "python3"
  },
  "language_info": {
   "codemirror_mode": {
    "name": "ipython",
    "version": 3
   },
   "file_extension": ".py",
   "mimetype": "text/x-python",
   "name": "python",
   "nbconvert_exporter": "python",
   "pygments_lexer": "ipython3",
   "version": "3.9.7"
  }
 },
 "nbformat": 4,
 "nbformat_minor": 5
}
