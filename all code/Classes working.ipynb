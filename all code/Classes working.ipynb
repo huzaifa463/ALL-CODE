{
 "cells": [
  {
   "cell_type": "code",
   "execution_count": null,
   "id": "95d31c9c",
   "metadata": {},
   "outputs": [],
   "source": [
    "# No.1"
   ]
  },
  {
   "cell_type": "code",
   "execution_count": null,
   "id": "f6299e26",
   "metadata": {},
   "outputs": [],
   "source": [
    "class book:\n",
    "    def __init__(self,c,w,p,r,e):\n",
    "        self.book_width=w\n",
    "        self.book_col=c\n",
    "        self.book_pos=p\n",
    "        self.read=True\n",
    "        self.write =False\n",
    "        self.erase = False\n",
    "    def open_(self):\n",
    "        if self.book_pos==0:\n",
    "            self.book_pos=180\n",
    "            print(\"the book is  open:\")\n",
    "        else:\n",
    "            print(\"the book is either open or close :\")\n",
    "    def close_(self):\n",
    "        if self.book_pos==180:\n",
    "            self.book_pos=0\n",
    "            print(\"the book is closed\")\n",
    "        else:\n",
    "            print(\"the book is already closed\")\n",
    "    def write():\n",
    "        if self.write==True:\n",
    "            self.write=False\n",
    "            print(\"you can't write in book\")\n",
    "        else:\n",
    "            print(\"you can either write in book or not\")\n",
    "    def read():\n",
    "        if self.read==False:\n",
    "            self.read=True\n",
    "            print(\"You can read the book\")\n",
    "        else:\n",
    "            print(\"you can either read the book or not,it depends on you:\")\n",
    "    def erase() :\n",
    "        if self.erase==True:\n",
    "            self.erase= False\n",
    "            print(\"You can't erase the words :sorry!\")\n",
    "        else:\n",
    "            print(\"erasing in the book is prohibited!\")\n",
    "            \n",
    "    \n"
   ]
  },
  {
   "cell_type": "code",
   "execution_count": null,
   "id": "a33f8314",
   "metadata": {},
   "outputs": [],
   "source": [
    "my_book = book('brown',3,234,True,False)\n",
    "\n"
   ]
  },
  {
   "cell_type": "code",
   "execution_count": null,
   "id": "97b5251c",
   "metadata": {},
   "outputs": [],
   "source": [
    "my_book.close_()"
   ]
  },
  {
   "cell_type": "code",
   "execution_count": null,
   "id": "5bdd3341",
   "metadata": {},
   "outputs": [],
   "source": [
    "my_book.open_()"
   ]
  },
  {
   "cell_type": "code",
   "execution_count": null,
   "id": "f8596d1e",
   "metadata": {},
   "outputs": [],
   "source": [
    "my_book.book_col"
   ]
  },
  {
   "cell_type": "code",
   "execution_count": null,
   "id": "1ad3dc9f",
   "metadata": {},
   "outputs": [],
   "source": [
    "my_book.read"
   ]
  },
  {
   "cell_type": "code",
   "execution_count": null,
   "id": "b96febd6",
   "metadata": {},
   "outputs": [],
   "source": [
    "my_book.write"
   ]
  },
  {
   "cell_type": "code",
   "execution_count": null,
   "id": "5edfce42",
   "metadata": {},
   "outputs": [],
   "source": [
    "my_book.erase"
   ]
  },
  {
   "cell_type": "markdown",
   "id": "48633849",
   "metadata": {},
   "source": [
    "# NO.2"
   ]
  },
  {
   "cell_type": "code",
   "execution_count": 1,
   "id": "b999fde5",
   "metadata": {},
   "outputs": [],
   "source": [
    "class game:\n",
    "    def __init__(self,players,height,position,skincolour,health,enemy,player):\n",
    "        self.game_height=height\n",
    "        self.game_pos=position\n",
    "        self.enemy=enemy\n",
    "        self.game_skincolour=skincolour\n",
    "        self.health=200\n",
    "        self.players=100\n",
    "        self.player=True\n",
    "    def players(self):\n",
    "        if players==50:\n",
    "            self.players=100\n",
    "#             players=True\n",
    "            print(\"not all players are in the game,retry again!\")\n",
    "        else:\n",
    "            print(\"reload the game:\")\n",
    "    def position(self):\n",
    "        self.game_pos=(23.56,56.87)\n",
    "        if self.game_pos==self.game_pos:\n",
    "            print(\"this is the position where all players will play!\")\n",
    "        else:\n",
    "            print(\"the game should wants a restart\")\n",
    "    def health(self):\n",
    "        if self.health==200:\n",
    "            self.health=100\n",
    "            print(\"you should search for a med kit!\")\n",
    "        else:\n",
    "            print(\"your health is full ! :)\")\n",
    "    def player(self):\n",
    "        self.player==True\n",
    "        self.player=False\n",
    "        return'the player is still alive'\n",
    "    def enemy(self):\n",
    "        if enemy==True:\n",
    "            print(\"enemy is killing players\")\n",
    "        elif player ==True:\n",
    "            print(\"players are killing there enemies massively\")\n",
    "        else:\n",
    "            print(\"the game is going to end\")\n",
    "    def kill(self):\n",
    "        if player == True or enemy == False:\n",
    "            print(\"the player has killed the enemy\")\n",
    "        else:\n",
    "            print(\"the eney has killed the player\")\n",
    "            \n",
    "        \n",
    "    \n",
    "        \n",
    "    "
   ]
  },
  {
   "cell_type": "code",
   "execution_count": 2,
   "id": "dfb6ea3c",
   "metadata": {},
   "outputs": [],
   "source": [
    "my_game=game(players=45,skincolour=\"white\",position=23,health=200,height=5,enemy=False,player=True)"
   ]
  },
  {
   "cell_type": "code",
   "execution_count": 3,
   "id": "ffe71ce5",
   "metadata": {},
   "outputs": [
    {
     "data": {
      "text/plain": [
       "5"
      ]
     },
     "execution_count": 3,
     "metadata": {},
     "output_type": "execute_result"
    }
   ],
   "source": [
    "my_game.game_height"
   ]
  },
  {
   "cell_type": "code",
   "execution_count": 4,
   "id": "4ae75954",
   "metadata": {},
   "outputs": [
    {
     "data": {
      "text/plain": [
       "23"
      ]
     },
     "execution_count": 4,
     "metadata": {},
     "output_type": "execute_result"
    }
   ],
   "source": [
    "my_game.game_pos\n"
   ]
  },
  {
   "cell_type": "code",
   "execution_count": 5,
   "id": "e2621a73",
   "metadata": {},
   "outputs": [
    {
     "data": {
      "text/plain": [
       "'white'"
      ]
     },
     "execution_count": 5,
     "metadata": {},
     "output_type": "execute_result"
    }
   ],
   "source": [
    "my_game.game_skincolour"
   ]
  },
  {
   "cell_type": "code",
   "execution_count": 6,
   "id": "2ea65480",
   "metadata": {},
   "outputs": [
    {
     "data": {
      "text/plain": [
       "200"
      ]
     },
     "execution_count": 6,
     "metadata": {},
     "output_type": "execute_result"
    }
   ],
   "source": [
    "my_game.health"
   ]
  },
  {
   "cell_type": "code",
   "execution_count": 7,
   "id": "9cec0907",
   "metadata": {},
   "outputs": [
    {
     "data": {
      "text/plain": [
       "100"
      ]
     },
     "execution_count": 7,
     "metadata": {},
     "output_type": "execute_result"
    }
   ],
   "source": [
    "my_game.players"
   ]
  },
  {
   "cell_type": "code",
   "execution_count": 8,
   "id": "36b85c74",
   "metadata": {},
   "outputs": [
    {
     "name": "stdout",
     "output_type": "stream",
     "text": [
      "this is the position where all players will play!\n"
     ]
    }
   ],
   "source": [
    "my_game.position()"
   ]
  },
  {
   "cell_type": "code",
   "execution_count": 10,
   "id": "73b004e5",
   "metadata": {},
   "outputs": [
    {
     "data": {
      "text/plain": [
       "False"
      ]
     },
     "execution_count": 10,
     "metadata": {},
     "output_type": "execute_result"
    }
   ],
   "source": [
    "my_game.enemy"
   ]
  },
  {
   "cell_type": "code",
   "execution_count": 11,
   "id": "d96c6442",
   "metadata": {},
   "outputs": [
    {
     "data": {
      "text/plain": [
       "True"
      ]
     },
     "execution_count": 11,
     "metadata": {},
     "output_type": "execute_result"
    }
   ],
   "source": [
    "my_game.player"
   ]
  },
  {
   "cell_type": "markdown",
   "id": "74c53437",
   "metadata": {},
   "source": [
    "# No.3"
   ]
  },
  {
   "cell_type": "code",
   "execution_count": null,
   "id": "c58aa9ca",
   "metadata": {},
   "outputs": [],
   "source": []
  },
  {
   "cell_type": "code",
   "execution_count": null,
   "id": "65524484",
   "metadata": {},
   "outputs": [],
   "source": [
    "class school:\n",
    "    def __init__(self,students,furniture,rooms,ground,teachers):\n",
    "        self.school_students=students\n",
    "        self.furniture=furniture\n",
    "        self.rooms=rooms\n",
    "        self.ground=ground\n",
    "        self.schools_teachers=teachers\n",
    "    def is_registered(self):\n",
    "        students=[\"shoaib,ahmed,huzaifa,faizan,ahsan,ayan\"]\n",
    "\n",
    "        user=input(\"enter your name   \")\n",
    "\n",
    "        if user in students:\n",
    "            print(\"all students are registered:\")\n",
    "\n",
    "        elif user in students or user not in students:\n",
    "            print(\"some of the students are registered and some are not registered:\")\n",
    "    def seted_furni(self):\n",
    "\n",
    "        self.furniture==True\n",
    "        print(self.furniture)\n",
    "\n",
    "    def making_rooms(self):\n",
    "        self.rooms=True\n",
    "        i=0\n",
    "        count=0\n",
    "        while i==self.rooms:\n",
    "            print(\"rooms are available\")\n",
    "            count=count+1\n",
    "            print(count)\n",
    "            break\n",
    "    def has_ground(self):\n",
    "        if self.ground==True:\n",
    "            self.ground=False\n",
    "            print(\"The ground is available!\")\n",
    "        else:\n",
    "            print(\"The ground is not available\")\n",
    "    def is_teaching_staff(self):\n",
    "        self.game_teachers=10\n",
    "        print(self.game_teachers)\n",
    "\n",
    "\n",
    "                    \n",
    "            \n",
    "            \n",
    "                \n",
    "        "
   ]
  },
  {
   "cell_type": "code",
   "execution_count": null,
   "id": "20b511de",
   "metadata": {},
   "outputs": [],
   "source": [
    "my_school=school(teachers=10,students=6,ground=False,furniture=True,rooms=True)"
   ]
  },
  {
   "cell_type": "code",
   "execution_count": null,
   "id": "ca2db8a0",
   "metadata": {},
   "outputs": [],
   "source": [
    "my_school.furniture"
   ]
  },
  {
   "cell_type": "code",
   "execution_count": null,
   "id": "8e6e3c13",
   "metadata": {},
   "outputs": [],
   "source": [
    "my_school.ground"
   ]
  },
  {
   "cell_type": "code",
   "execution_count": null,
   "id": "ebb45c41",
   "metadata": {},
   "outputs": [],
   "source": [
    "my_school.rooms"
   ]
  },
  {
   "cell_type": "code",
   "execution_count": null,
   "id": "bdb75a81",
   "metadata": {},
   "outputs": [],
   "source": [
    "my_school.school_students"
   ]
  },
  {
   "cell_type": "code",
   "execution_count": null,
   "id": "4ca10deb",
   "metadata": {},
   "outputs": [],
   "source": [
    "my_school.schools_teachers"
   ]
  },
  {
   "cell_type": "code",
   "execution_count": null,
   "id": "30c689b4",
   "metadata": {},
   "outputs": [],
   "source": [
    "my_school.is_registered()"
   ]
  },
  {
   "cell_type": "markdown",
   "id": "90c1b3a0",
   "metadata": {},
   "source": [
    "# No.4\n",
    "    \n"
   ]
  },
  {
   "cell_type": "code",
   "execution_count": null,
   "id": "f733387e",
   "metadata": {},
   "outputs": [],
   "source": [
    "class person :\n",
    "    def __init__(self,walk,jump,punch,smile,sit):\n",
    "        self.person_walk=walk\n",
    "        self.person_jump=jump\n",
    "        self.person_punch=punch\n",
    "        self.person_smile=smile\n",
    "        self.person_sit=sit\n",
    "    def is_walk(self):\n",
    "        if self.person_walk==True:\n",
    "            print(\"the person is walking\")\n",
    "        else:\n",
    "            print(\"the person is not  walking\")\n",
    "    def can_jump(self):\n",
    "        if self.person_jump==True:\n",
    "            print(\"the person can jump\")\n",
    "        else:\n",
    "            print(\"the person cannot jump\")\n",
    "    def can_punch(self):\n",
    "        if self.person_punch ==True :\n",
    "            print(\"the peron can punch\")\n",
    "        else:\n",
    "            print(\"the person cannot jump\")\n",
    "    def is_sitting(self):\n",
    "        if self.person_sit==True:\n",
    "            print(\"the person is sitting\")\n",
    "        else:\n",
    "            print(\"the person is not sitting is either lynig or standing\")\n",
    "    def is_smiling(self):\n",
    "        self.person_smile==True\n",
    "        if self.person_smile==True:\n",
    "            print(\"the person is smiling\")\n",
    "        else:\n",
    "            print(\"the person is not smiling\")"
   ]
  },
  {
   "cell_type": "code",
   "execution_count": null,
   "id": "1d525963",
   "metadata": {},
   "outputs": [],
   "source": [
    "per_=person(walk = False,jump = False,punch = True,sit=False , smile=True)"
   ]
  },
  {
   "cell_type": "code",
   "execution_count": null,
   "id": "725887bb",
   "metadata": {},
   "outputs": [],
   "source": [
    "per_.can_jump()"
   ]
  },
  {
   "cell_type": "code",
   "execution_count": null,
   "id": "a658dacb",
   "metadata": {},
   "outputs": [],
   "source": [
    "per_.can_punch()"
   ]
  },
  {
   "cell_type": "code",
   "execution_count": null,
   "id": "9ebab62d",
   "metadata": {},
   "outputs": [],
   "source": [
    "per_.is_sitting()"
   ]
  },
  {
   "cell_type": "code",
   "execution_count": null,
   "id": "a2b8fba0",
   "metadata": {},
   "outputs": [],
   "source": [
    "per_.is_smiling()"
   ]
  },
  {
   "cell_type": "code",
   "execution_count": null,
   "id": "f30ae12c",
   "metadata": {},
   "outputs": [],
   "source": [
    "per_.is_walk()"
   ]
  },
  {
   "cell_type": "markdown",
   "id": "d67b6683",
   "metadata": {},
   "source": [
    "# No.5"
   ]
  },
  {
   "cell_type": "code",
   "execution_count": null,
   "id": "f6ef5d14",
   "metadata": {},
   "outputs": [],
   "source": [
    "class robot:\n",
    "    def __init__(self,fly,kick,punch,stand,dance):\n",
    "        self.fly=fly\n",
    "        self.kick=kick\n",
    "        self.punch=punch\n",
    "        self.stand=stand\n",
    "        self.dance=dance\n",
    "    def can_fly(self):\n",
    "        if self.fly == True:\n",
    "            print(\"can fly\")\n",
    "        else:\n",
    "            print(\"can't fly\")\n",
    "    def can_kick(self):\n",
    "        if self.kick==True:\n",
    "            print(\"can kick\")\n",
    "        else:\n",
    "            print(\"can't kick\")\n",
    "    def is_punching(self):\n",
    "        if self.punch == True:\n",
    "            print(\"The robot is punching the pad\")\n",
    "        else:\n",
    "            print(\"the robot is not punching \")\n",
    "    def is_standing(self):\n",
    "        if self.stand==True:\n",
    "            print(\"the robot is standing\")\n",
    "        else:\n",
    "            print(\"the robot is not standing\")\n",
    "    def can_dance(self):\n",
    "        if self.dance==True:\n",
    "            print(\"the robot can dance\")\n",
    "        else:\n",
    "            print(\"the robot can't dance or the program hasn't passed yet\")"
   ]
  },
  {
   "cell_type": "code",
   "execution_count": null,
   "id": "2cbf3f29",
   "metadata": {},
   "outputs": [],
   "source": [
    "robo_= robot(fly=True,kick=False,punch=True,stand=False,dance=False)"
   ]
  },
  {
   "cell_type": "code",
   "execution_count": null,
   "id": "d73b329f",
   "metadata": {},
   "outputs": [],
   "source": [
    "robo_.can_dance()"
   ]
  },
  {
   "cell_type": "code",
   "execution_count": null,
   "id": "c29c0d40",
   "metadata": {},
   "outputs": [],
   "source": [
    "robo_.can_fly()"
   ]
  },
  {
   "cell_type": "code",
   "execution_count": null,
   "id": "ee8f880c",
   "metadata": {},
   "outputs": [],
   "source": [
    "robo_.can_kick()"
   ]
  },
  {
   "cell_type": "code",
   "execution_count": null,
   "id": "70c31291",
   "metadata": {},
   "outputs": [],
   "source": [
    "robo_.is_punching()"
   ]
  },
  {
   "cell_type": "code",
   "execution_count": null,
   "id": "df654caa",
   "metadata": {},
   "outputs": [],
   "source": [
    "robo_.is_standing()"
   ]
  },
  {
   "cell_type": "markdown",
   "id": "3d8c651d",
   "metadata": {},
   "source": [
    "# CLASSES"
   ]
  },
  {
   "cell_type": "code",
   "execution_count": null,
   "id": "f5456d77",
   "metadata": {},
   "outputs": [],
   "source": [
    "import time\n",
    "class Cake:\n",
    "    def __init__(self,floor,egg,sugar,milk,baking_soda):\n",
    "        self.floor=floor\n",
    "        self.sugar=sugar\n",
    "        self.egg=egg\n",
    "        self.milk=milk\n",
    "        self.baking_soda=baking_soda\n",
    "        self.temprature=25\n",
    "        self.is_mixed=False\n",
    "        self.is_baked = False\n",
    "        self.is_beating=False\n",
    "    def beat_eggs_whites(self):\n",
    "        for i in range(4):\n",
    "            print(\"egg is beating\")\n",
    "            time.sleep(1.02)\n",
    "        self.is_beating = True\n",
    "        print(\"it is fommy now\")\n",
    "    def mix(self):\n",
    "        if self.is_mixed==False and self.is_beating ==True:\n",
    "            self.is_mixed=True\n",
    "            print(\"it is mixed now\")\n",
    "        else:\n",
    "            print(\"Already mixed or firstly beat the eggs\")\n",
    "    def baked(self):\n",
    "        if self.is_mixed == True:\n",
    "            self.is_baked=True\n",
    "            while self.temprature < 250:\n",
    "                self.temprature +=25\n",
    "                print(self.temprature)\n",
    "                time.sleep(1.02)\n",
    "            print(\"cake is baked \")\n",
    "class creamcake(Cake):\n",
    "    def __init__(self,floor,eggs,milk,baking_soda,sugar,cream):\n",
    "        super().__init__(floor,eggs,milk,baking_soda,sugar)\n",
    "        self.cream = cream\n",
    "        self.cool = 10\n",
    "    def getcream(self):\n",
    "        return self.cream\n",
    "    def setcream(self,x):\n",
    "        self.cream = x\n",
    "    def addcream(self):\n",
    "        if self.cream == False:\n",
    "            self.cream = True\n",
    "            print(\"cream is added\")\n",
    "    def refreginerate(self):\n",
    "        while self.cool > -15:\n",
    "            self.cool -= 1\n",
    "            print(\"cooling temp :\",self.cool)\n",
    "            time.sleep(1)\n",
    "        print(\"cake is chilled\")\n",
    "        \n"
   ]
  },
  {
   "cell_type": "code",
   "execution_count": null,
   "id": "33fc82d2",
   "metadata": {},
   "outputs": [],
   "source": [
    "class Cherrycreamcake(creamcake):\n",
    "    def __init__(self,floor,eggs,milk,baking_soda,sugar,cream,cherry):\n",
    "        super().__init__(floor,eggs,milk,baking_soda,sugar)\n",
    "        self.cherry = cherry\n",
    "    def addcherry(self):\n",
    "        if self.cherry == False:\n",
    "            self.cherry = True\n",
    "            print(\"Cherry Added to creamcake\")\n",
    "        else:\n",
    "            print(\"cherry already added\")"
   ]
  },
  {
   "cell_type": "code",
   "execution_count": null,
   "id": "621a4d7d",
   "metadata": {},
   "outputs": [],
   "source": [
    "class chocklatecherrycreamcake(Cherrycreamcake):\n",
    "    def __init__(self,floors,eggs,milk,baking_soda,cream,cherry,chocklate):\n",
    "        super().__init__(floor,eggs,milk,baking_soda,cream,cherry)\n",
    "        self.chocklate=chocklate\n",
    "    def addchocklate(self):\n",
    "        if self.chocklate == False:\n",
    "            self.chocklate = True\n",
    "            print(\"chocklate added to cherry creamcake\")\n",
    "        else:\n",
    "            print(\"chocklate already to cherry creamcake added\")"
   ]
  },
  {
   "cell_type": "code",
   "execution_count": null,
   "id": "b524fe37",
   "metadata": {},
   "outputs": [],
   "source": [
    "cake_1=Cake(floor='2cup',egg=3,milk='5cups',baking_soda='3spoons',sugar='1cup')\n",
    "# cake_2=creamcake(floor = \"2cups\",eggs = 4 , milk,'5cups',baking_soda='3pinchies',sugar='2cup',cream = False)\n",
    "# cake_3=Cherrycreamcake(floor = \"2cups\",eggs = 4 , milk,'5cups',baking_soda='3pinchies',sugar='2cup',cream = False,cherry=False)\n",
    "# cake_4=chocklatecherrycreamcake(floor = \"2cups\",eggs = 4 , milk,'5cups',baking_soda='3pinchies',sugar='2cup',cream = False,cherry=False,chocklate=False)"
   ]
  },
  {
   "cell_type": "code",
   "execution_count": null,
   "id": "0e180587",
   "metadata": {},
   "outputs": [],
   "source": [
    "cake_1.baking_soda"
   ]
  },
  {
   "cell_type": "code",
   "execution_count": null,
   "id": "9dbd9a91",
   "metadata": {},
   "outputs": [],
   "source": [
    "cake.is_mixed"
   ]
  },
  {
   "cell_type": "code",
   "execution_count": null,
   "id": "a05f8277",
   "metadata": {},
   "outputs": [],
   "source": [
    "cake.temprature"
   ]
  },
  {
   "cell_type": "code",
   "execution_count": null,
   "id": "fe6afd38",
   "metadata": {},
   "outputs": [],
   "source": [
    "cake.baked()"
   ]
  },
  {
   "cell_type": "code",
   "execution_count": null,
   "id": "3777f124",
   "metadata": {},
   "outputs": [],
   "source": [
    "cake_1.floor"
   ]
  },
  {
   "cell_type": "code",
   "execution_count": null,
   "id": "128adb2e",
   "metadata": {},
   "outputs": [],
   "source": [
    "cake_1.egg"
   ]
  },
  {
   "cell_type": "code",
   "execution_count": null,
   "id": "2c9a3f66",
   "metadata": {},
   "outputs": [],
   "source": [
    "cake_1.milk"
   ]
  },
  {
   "cell_type": "code",
   "execution_count": null,
   "id": "4688e601",
   "metadata": {},
   "outputs": [],
   "source": [
    "cake_1.baking_soda"
   ]
  },
  {
   "cell_type": "markdown",
   "id": "c36fcfd8",
   "metadata": {},
   "source": [
    "# Activity no.2"
   ]
  },
  {
   "cell_type": "code",
   "execution_count": null,
   "id": "f9486922",
   "metadata": {},
   "outputs": [],
   "source": [
    "class Animal:\n",
    "    def __init__(self,food,water):\n",
    "        self.food=food\n",
    "        self.water=water\n",
    "        self.is_alive=False\n",
    "        self.is_eat=False\n",
    "    def alive(self):\n",
    "        if self.is_alive==False:\n",
    "            self.is_alive=True\n",
    "            print('animal alive')\n",
    "    def drink(self):\n",
    "        if self.is_alive==True:\n",
    "            self.is_drink=True\n",
    "            print(\"animal can drink or able to drink\")\n",
    "    def eat(self):\n",
    "        if self.is_alive==True:\n",
    "            self.is_eat==True\n",
    "            print(\"animal is able to eat\")\n",
    "    "
   ]
  },
  {
   "cell_type": "code",
   "execution_count": null,
   "id": "847bdf9e",
   "metadata": {},
   "outputs": [],
   "source": [
    "animal_=Animal(\"meat\",\"soda\")"
   ]
  },
  {
   "cell_type": "code",
   "execution_count": null,
   "id": "5192e459",
   "metadata": {},
   "outputs": [],
   "source": [
    "animal_.alive()\n",
    "animal_.drink()\n",
    "animal_.eat()"
   ]
  },
  {
   "cell_type": "code",
   "execution_count": null,
   "id": "e0b7b4c0",
   "metadata": {},
   "outputs": [],
   "source": [
    "class Harbivorous(Animal):\n",
    "    def __init__(self,grass ,food,water):\n",
    "        Animal.__init__(self,food,water)\n",
    "        self.grass=grass\n",
    "        self.is_grass=False\n",
    "    def eaten(self):\n",
    "        if self.is_grass==False:\n",
    "            self.is_grass=True\n",
    "            print(\"animal is harbi\")\n",
    "            "
   ]
  },
  {
   "cell_type": "code",
   "execution_count": null,
   "id": "b77a97a7",
   "metadata": {},
   "outputs": [],
   "source": [
    "harbi_1=Harbivorous('grass','meat','soda')"
   ]
  },
  {
   "cell_type": "code",
   "execution_count": null,
   "id": "bf15769c",
   "metadata": {},
   "outputs": [],
   "source": [
    "harbi_1.eaten()\n",
    "harbi_1.alive()\n",
    "harbi_1.eat()"
   ]
  },
  {
   "cell_type": "code",
   "execution_count": null,
   "id": "c499973a",
   "metadata": {},
   "outputs": [],
   "source": [
    "class Cow(Harbivorous):\n",
    "    def __init__(self,milk,grass,food,water):\n",
    "        Harbivorous.__init__(self,grass,food,water)\n",
    "        self.milk=milk\n",
    "    def Milk(self):\n",
    "        if self.milk<='3':\n",
    "            print(\"cow is common cow\")\n",
    "        else:\n",
    "            print('cow is another city or country')\n",
    "            "
   ]
  },
  {
   "cell_type": "code",
   "execution_count": null,
   "id": "53db9303",
   "metadata": {},
   "outputs": [],
   "source": [
    "harbi_2=Cow(\"3\",\"grass\",\"meat\",'soda')"
   ]
  },
  {
   "cell_type": "code",
   "execution_count": null,
   "id": "05953262",
   "metadata": {},
   "outputs": [],
   "source": [
    "harbi_2.Milk()\n",
    "harbi_2.eaten()"
   ]
  },
  {
   "cell_type": "code",
   "execution_count": null,
   "id": "0d739c51",
   "metadata": {},
   "outputs": [],
   "source": [
    "class SahiwalCow(Cow):\n",
    "    def __init__(self,milk,grass,food,water,hump):\n",
    "        Cow.__init__(self,grass,food,water,milk)\n",
    "        self.hump=hump\n",
    "    def Hump(self):\n",
    "        if self.hump>=\"4\" :\n",
    "            print(\"cow is sahiwal cow\")\n",
    "        else:\n",
    "            print(\"cow is not a sahiwal cow\")"
   ]
  },
  {
   "cell_type": "code",
   "execution_count": null,
   "id": "299d470f",
   "metadata": {},
   "outputs": [],
   "source": [
    "harbi_3=SahiwalCow(\"4\",\"grass\",\"meat\",\"water\",\"extra milk\")"
   ]
  },
  {
   "cell_type": "code",
   "execution_count": null,
   "id": "70b4991c",
   "metadata": {},
   "outputs": [],
   "source": [
    "harbi_3.grass"
   ]
  },
  {
   "cell_type": "code",
   "execution_count": null,
   "id": "1b02c2d0",
   "metadata": {},
   "outputs": [],
   "source": [
    "harbi_3.food"
   ]
  },
  {
   "cell_type": "code",
   "execution_count": null,
   "id": "dd04c258",
   "metadata": {},
   "outputs": [],
   "source": [
    "harbi_3.Hump()"
   ]
  },
  {
   "cell_type": "code",
   "execution_count": null,
   "id": "cc74f9ac",
   "metadata": {},
   "outputs": [],
   "source": [
    "class Carnivorous(Animal):\n",
    "    def __init__(self,meat ,food,water):\n",
    "        Animal.__init__(self,food,water)\n",
    "        self.meat=meat\n",
    "    def eat(self):\n",
    "        s=str(Animal.eat(self))\n",
    "        return 'eats meat '"
   ]
  },
  {
   "cell_type": "code",
   "execution_count": null,
   "id": "e7417593",
   "metadata": {},
   "outputs": [],
   "source": [
    "carni_1=Carnivorous('meat','meat','water')"
   ]
  },
  {
   "cell_type": "code",
   "execution_count": null,
   "id": "660f0451",
   "metadata": {},
   "outputs": [],
   "source": [
    "# carni_1.eaten()\n",
    "# carni_1.alive()\n",
    "carni_1.eat()"
   ]
  },
  {
   "cell_type": "code",
   "execution_count": null,
   "id": "26cde572",
   "metadata": {},
   "outputs": [],
   "source": [
    "class Shark(Carnivorous):\n",
    "    def __init__(self,small_eat,meat,food,water):\n",
    "        Carnivorous.__init__(self,meat,food,water)\n",
    "        self.small_eat=small_eat\n",
    "    def eat(self):\n",
    "        s=Carnivorous.eat(self)\n",
    "        return'eat small_fishes' "
   ]
  },
  {
   "cell_type": "code",
   "execution_count": null,
   "id": "7755857e",
   "metadata": {},
   "outputs": [],
   "source": [
    "carni_2=Shark(\"small_fishes\",\"meat\",\"meat\",\"water\")"
   ]
  },
  {
   "cell_type": "code",
   "execution_count": null,
   "id": "e3dbbcb0",
   "metadata": {},
   "outputs": [],
   "source": [
    "carni_2.eat()"
   ]
  },
  {
   "cell_type": "code",
   "execution_count": null,
   "id": "7b829842",
   "metadata": {},
   "outputs": [],
   "source": [
    "class BlueShark(Shark):\n",
    "    def __init__(self,more_eat,less_eat,meat,food,water):\n",
    "        Shark.__init__(self,less_eat,meat,food,water)\n",
    "        self.more_eat=more_eat\n",
    "    def eat(self):\n",
    "        d=Shark.eat(self)\n",
    "        return'Blue shark eats more_fishes'"
   ]
  },
  {
   "cell_type": "code",
   "execution_count": null,
   "id": "5bda9626",
   "metadata": {},
   "outputs": [],
   "source": [
    "carni_3=BlueShark('more_meat','small_fishes','meat','meat','water')"
   ]
  },
  {
   "cell_type": "code",
   "execution_count": null,
   "id": "d64e58e8",
   "metadata": {},
   "outputs": [],
   "source": [
    "carni_3.eat()"
   ]
  },
  {
   "cell_type": "markdown",
   "id": "9b3f143e",
   "metadata": {},
   "source": [
    "# Activity No.3"
   ]
  },
  {
   "cell_type": "code",
   "execution_count": null,
   "id": "14b3bcc3",
   "metadata": {},
   "outputs": [],
   "source": [
    "class Animal:\n",
    "    def __init__(self,food,water):\n",
    "        self.food=food\n",
    "        self.water=water\n",
    "        self.is_alive=False\n",
    "        self.is_eat=False\n",
    "    def alive(self):\n",
    "        if self.is_alive==False:\n",
    "            self.is_alive=True\n",
    "            print('animal alive')\n",
    "    def drink(self):\n",
    "        if self.is_alive==True:\n",
    "            self.is_drink=True\n",
    "            print(\"animal can drink \")\n",
    "    def eat(self):\n",
    "        if self.is_alive==True:\n",
    "            self.is_eat==True\n",
    "            print(\"animal is able to eat\")\n",
    "    "
   ]
  },
  {
   "cell_type": "code",
   "execution_count": null,
   "id": "b6f49ff5",
   "metadata": {},
   "outputs": [],
   "source": [
    "class Harbivorous(Animal):\n",
    "    def __init__(self,grass ,food,water):\n",
    "        Animal.__init__(self,food,water)\n",
    "        self.grass=grass\n",
    "        self.is_grass=False\n",
    "    def eaten(self):\n",
    "        if self.is_grass==False:\n",
    "            self.is_grass=True\n",
    "            print(\"animal is harbi\")\n",
    "            "
   ]
  },
  {
   "cell_type": "code",
   "execution_count": null,
   "id": "92016b68",
   "metadata": {},
   "outputs": [],
   "source": [
    "class Carnivorous(Animal):\n",
    "    def __init__(self,meat ,food,water):\n",
    "        Animal.__init__(self,food,water)\n",
    "        self.meat=meat\n",
    "    def eating(self):\n",
    "        s=Animal.eat(self)\n",
    "        return 'Animal is carni'"
   ]
  },
  {
   "cell_type": "code",
   "execution_count": null,
   "id": "a37476dd",
   "metadata": {},
   "outputs": [],
   "source": [
    "animal_=Animal(\"meat\",\"soda\")\n",
    "harbi_=Harbivorous('grass','meat','soda')\n",
    "carni_=Carnivorous('meat','meat','water')"
   ]
  },
  {
   "cell_type": "code",
   "execution_count": null,
   "id": "6e2fade1",
   "metadata": {},
   "outputs": [],
   "source": [
    "animal_.alive()\n",
    "animal_.drink()\n",
    "animal_.eat()\n",
    "harbi_.eaten()\n",
    "harbi_.alive()\n",
    "harbi_.eat()\n",
    "carni_.eat()"
   ]
  },
  {
   "cell_type": "code",
   "execution_count": null,
   "id": "963e6d8d",
   "metadata": {},
   "outputs": [],
   "source": [
    "class Omnivorous(Carnivorous):\n",
    "    def __init__(self,eat,drink,is_alive):\n",
    "        super().__init__(self,eat,drink)\n",
    "        self.eat=eat\n",
    "    def eat(self):\n",
    "        s=Carnivorous.eat(self)\n",
    "        print(s)\n",
    "        return'can eat  meat'       "
   ]
  },
  {
   "cell_type": "code",
   "execution_count": null,
   "id": "6584f36a",
   "metadata": {},
   "outputs": [],
   "source": [
    "omni_=Omnivorous(\" meat\",\"water\",True)"
   ]
  },
  {
   "cell_type": "code",
   "execution_count": null,
   "id": "a62d07f1",
   "metadata": {},
   "outputs": [],
   "source": [
    "omni_.food"
   ]
  },
  {
   "cell_type": "code",
   "execution_count": null,
   "id": "9aab2a75",
   "metadata": {},
   "outputs": [],
   "source": [
    "omni_.eating()"
   ]
  },
  {
   "cell_type": "code",
   "execution_count": null,
   "id": "d8e49bfc",
   "metadata": {},
   "outputs": [],
   "source": [
    "class Omnivorous(Harbivorous):\n",
    "    def __init__(self,eat,drink,is_alive):\n",
    "        super().__init__(self,eat,drink)\n",
    "        self.eat=eat\n",
    "    def eat(self):\n",
    "        s=Harbivorous.eat(self)\n",
    "        return'can eat vegetables'  "
   ]
  },
  {
   "cell_type": "code",
   "execution_count": null,
   "id": "ea55f56e",
   "metadata": {},
   "outputs": [],
   "source": [
    "omni_1=Omnivorous(\"vegetables\",\"water\",True)"
   ]
  },
  {
   "cell_type": "code",
   "execution_count": null,
   "id": "013d495f",
   "metadata": {},
   "outputs": [],
   "source": [
    "omni_1.food"
   ]
  },
  {
   "cell_type": "code",
   "execution_count": null,
   "id": "62695523",
   "metadata": {},
   "outputs": [],
   "source": [
    "omni_1.is_alive"
   ]
  },
  {
   "cell_type": "code",
   "execution_count": null,
   "id": "cb32bd01",
   "metadata": {},
   "outputs": [],
   "source": [
    "omni_1.eaten()"
   ]
  }
 ],
 "metadata": {
  "kernelspec": {
   "display_name": "Python 3 (ipykernel)",
   "language": "python",
   "name": "python3"
  },
  "language_info": {
   "codemirror_mode": {
    "name": "ipython",
    "version": 3
   },
   "file_extension": ".py",
   "mimetype": "text/x-python",
   "name": "python",
   "nbconvert_exporter": "python",
   "pygments_lexer": "ipython3",
   "version": "3.9.7"
  }
 },
 "nbformat": 4,
 "nbformat_minor": 5
}
