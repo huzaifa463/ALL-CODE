{
 "cells": [
  {
   "cell_type": "markdown",
   "id": "e248476f",
   "metadata": {},
   "source": [
    "# Question no.1"
   ]
  },
  {
   "cell_type": "code",
   "execution_count": 1,
   "id": "bd9d2c77",
   "metadata": {},
   "outputs": [],
   "source": [
    "class Organization:\n",
    "    def __init__(self,p,e,s):\n",
    "        self.patients = p\n",
    "        self.employees = e\n",
    "        self.suppliers =  s\n",
    "    def havePatients(self):\n",
    "        print(\"Have Patients\")\n",
    "        return self.patients\n",
    "    def haveEmployees(self):\n",
    "        print(\"have employees\")\n",
    "        return self.employees\n",
    "    def haveSuppliers(self):\n",
    "        print(\"have suuppliers\")\n",
    "        return self.suppliers\n",
    "class Patients:\n",
    "    def __init__(self,n,d):\n",
    "        self.name= n\n",
    "        self.disease = d\n",
    "    def Name(self):\n",
    "        print(\"The name of the patient is :\")\n",
    "        return self.name\n",
    "    def Disease(self):\n",
    "        print(\"have disease and the patient does not want to discuss except doctor\")\n",
    "        return self.disease\n",
    "class Employees(Organization, Patients):\n",
    "    def __init__(self,w,N,d,p,e):\n",
    "        self.workers = w\n",
    "        self.Name = N\n",
    "        self.disease = d\n",
    "        self.patients = p\n",
    "        self.employees = e\n",
    "    def getName(self):\n",
    "        return self.Name\n",
    "    def work(self):\n",
    "        print(\"the work of the employees is to help doctors and patients to fight from \")\n",
    "        return self.disease\n",
    "class Suppliers(Organization ,Patients):\n",
    "    def __init__(self,h,s):\n",
    "        self.helpers = h\n",
    "        self.suppliers = s\n",
    "    def Helpers(self):\n",
    "        self.helpers == h\n",
    "        print(\"suppliers are the helpers \")\n",
    "        return self.helpers\n",
    "    def Suppliers(self):\n",
    "        print(\"the other suppliers should be like that one supplier\")\n",
    "        return self.suppliers"
   ]
  },
  {
   "cell_type": "code",
   "execution_count": 2,
   "id": "7242ab94",
   "metadata": {},
   "outputs": [],
   "source": [
    "H = Organization(20, 30 , 32)"
   ]
  },
  {
   "cell_type": "code",
   "execution_count": 3,
   "id": "5200821b",
   "metadata": {},
   "outputs": [
    {
     "name": "stdout",
     "output_type": "stream",
     "text": [
      "Have Patients\n"
     ]
    },
    {
     "data": {
      "text/plain": [
       "20"
      ]
     },
     "execution_count": 3,
     "metadata": {},
     "output_type": "execute_result"
    }
   ],
   "source": [
    "H.havePatients()"
   ]
  },
  {
   "cell_type": "code",
   "execution_count": 4,
   "id": "2ae32404",
   "metadata": {},
   "outputs": [
    {
     "name": "stdout",
     "output_type": "stream",
     "text": [
      "have employees\n"
     ]
    },
    {
     "data": {
      "text/plain": [
       "30"
      ]
     },
     "execution_count": 4,
     "metadata": {},
     "output_type": "execute_result"
    }
   ],
   "source": [
    "H.haveEmployees()"
   ]
  },
  {
   "cell_type": "code",
   "execution_count": 5,
   "id": "b4b95e5a",
   "metadata": {},
   "outputs": [
    {
     "name": "stdout",
     "output_type": "stream",
     "text": [
      "have suuppliers\n"
     ]
    },
    {
     "data": {
      "text/plain": [
       "32"
      ]
     },
     "execution_count": 5,
     "metadata": {},
     "output_type": "execute_result"
    }
   ],
   "source": [
    "H.haveSuppliers()"
   ]
  },
  {
   "cell_type": "code",
   "execution_count": 6,
   "id": "eb998c3a",
   "metadata": {},
   "outputs": [],
   "source": [
    "P = Patients(\"ali\",\"cancer\")"
   ]
  },
  {
   "cell_type": "code",
   "execution_count": 7,
   "id": "94a4b917",
   "metadata": {},
   "outputs": [
    {
     "name": "stdout",
     "output_type": "stream",
     "text": [
      "The name of the patient is :\n"
     ]
    },
    {
     "data": {
      "text/plain": [
       "'ali'"
      ]
     },
     "execution_count": 7,
     "metadata": {},
     "output_type": "execute_result"
    }
   ],
   "source": [
    "P.Name(\n",
    "\n",
    ")"
   ]
  },
  {
   "cell_type": "code",
   "execution_count": 8,
   "id": "c1180407",
   "metadata": {},
   "outputs": [
    {
     "name": "stdout",
     "output_type": "stream",
     "text": [
      "have disease and the patient does not want to discuss except doctor\n"
     ]
    },
    {
     "data": {
      "text/plain": [
       "'cancer'"
      ]
     },
     "execution_count": 8,
     "metadata": {},
     "output_type": "execute_result"
    }
   ],
   "source": [
    "P.Disease()"
   ]
  },
  {
   "cell_type": "code",
   "execution_count": 9,
   "id": "2a686762",
   "metadata": {},
   "outputs": [],
   "source": [
    "E = Employees(20,\"zainab is one of them \",\"dangerous diseases\",\"ali\",\"zainab\")"
   ]
  },
  {
   "cell_type": "code",
   "execution_count": 10,
   "id": "ea266079",
   "metadata": {},
   "outputs": [
    {
     "data": {
      "text/plain": [
       "'zainab is one of them '"
      ]
     },
     "execution_count": 10,
     "metadata": {},
     "output_type": "execute_result"
    }
   ],
   "source": [
    "E.getName()"
   ]
  },
  {
   "cell_type": "code",
   "execution_count": 11,
   "id": "1ea9dace",
   "metadata": {},
   "outputs": [
    {
     "data": {
      "text/plain": [
       "'dangerous diseases'"
      ]
     },
     "execution_count": 11,
     "metadata": {},
     "output_type": "execute_result"
    }
   ],
   "source": [
    "E.disease"
   ]
  },
  {
   "cell_type": "code",
   "execution_count": 12,
   "id": "31ab193f",
   "metadata": {},
   "outputs": [
    {
     "data": {
      "text/plain": [
       "'ali'"
      ]
     },
     "execution_count": 12,
     "metadata": {},
     "output_type": "execute_result"
    }
   ],
   "source": [
    "E.patients"
   ]
  },
  {
   "cell_type": "code",
   "execution_count": 13,
   "id": "b16b52b5",
   "metadata": {},
   "outputs": [
    {
     "data": {
      "text/plain": [
       "20"
      ]
     },
     "execution_count": 13,
     "metadata": {},
     "output_type": "execute_result"
    }
   ],
   "source": [
    "E.workers"
   ]
  },
  {
   "cell_type": "code",
   "execution_count": 14,
   "id": "fc811398",
   "metadata": {},
   "outputs": [
    {
     "name": "stdout",
     "output_type": "stream",
     "text": [
      "the work of the employees is to help doctors and patients to fight from \n"
     ]
    },
    {
     "data": {
      "text/plain": [
       "'dangerous diseases'"
      ]
     },
     "execution_count": 14,
     "metadata": {},
     "output_type": "execute_result"
    }
   ],
   "source": [
    "E.work()"
   ]
  },
  {
   "cell_type": "code",
   "execution_count": 15,
   "id": "6b90ca7f",
   "metadata": {},
   "outputs": [
    {
     "data": {
      "text/plain": [
       "'zainab'"
      ]
     },
     "execution_count": 15,
     "metadata": {},
     "output_type": "execute_result"
    }
   ],
   "source": [
    "E.employees"
   ]
  },
  {
   "cell_type": "code",
   "execution_count": 16,
   "id": "e931e940",
   "metadata": {},
   "outputs": [],
   "source": [
    "S = Suppliers(32,\"david\")"
   ]
  },
  {
   "cell_type": "code",
   "execution_count": 17,
   "id": "206250db",
   "metadata": {},
   "outputs": [
    {
     "data": {
      "text/plain": [
       "32"
      ]
     },
     "execution_count": 17,
     "metadata": {},
     "output_type": "execute_result"
    }
   ],
   "source": [
    "S.helpers"
   ]
  },
  {
   "cell_type": "code",
   "execution_count": 18,
   "id": "033f5dfb",
   "metadata": {},
   "outputs": [
    {
     "name": "stdout",
     "output_type": "stream",
     "text": [
      "the other suppliers should be like that one supplier\n"
     ]
    },
    {
     "data": {
      "text/plain": [
       "'david'"
      ]
     },
     "execution_count": 18,
     "metadata": {},
     "output_type": "execute_result"
    }
   ],
   "source": [
    "S.Suppliers()"
   ]
  },
  {
   "cell_type": "markdown",
   "id": "455e56b8",
   "metadata": {},
   "source": [
    "# Question No.2"
   ]
  },
  {
   "cell_type": "code",
   "execution_count": 1,
   "id": "3801d8d5",
   "metadata": {},
   "outputs": [],
   "source": [
    "class Organization:\n",
    "    def __init__(self,o,e,d,a):\n",
    "        self.owner = o\n",
    "        self.employees = e\n",
    "        self.die = d\n",
    "        self.alive=a\n",
    "    def Owner(self):\n",
    "        return self.owner\n",
    "    def hasDie(self):\n",
    "        \n",
    "        if self.die == \"die\":\n",
    "            print(\"the organization is no more\")\n",
    "        else:\n",
    "            print(\"invalid entry\")\n",
    "            return self.owner\n",
    "    def isalive(self):\n",
    "        if self.alive == \"alive\":\n",
    "            print(\"the organization is at its best\")\n",
    "        else:\n",
    "            print(\"invalid entry\")\n",
    "    def Employees(self):\n",
    "        return self.employees\n",
    "    def hasdie(self):\n",
    "        if self.die == \"die\":\n",
    "            print(\"there is no effect on organization and the died person is :\",self.employees)\n",
    "        else:\n",
    "            print(\"the organization works normally\")"
   ]
  },
  {
   "cell_type": "code",
   "execution_count": 2,
   "id": "d08347e1",
   "metadata": {},
   "outputs": [],
   "source": [
    "O = Organization('Alex','john',\"die\",\"die\")"
   ]
  },
  {
   "cell_type": "code",
   "execution_count": 3,
   "id": "0ec0464d",
   "metadata": {},
   "outputs": [
    {
     "data": {
      "text/plain": [
       "'Alex'"
      ]
     },
     "execution_count": 3,
     "metadata": {},
     "output_type": "execute_result"
    }
   ],
   "source": [
    "O.Owner()\n",
    "# here we have an example of has-a relation that organization have owner and employee so on"
   ]
  },
  {
   "cell_type": "code",
   "execution_count": 4,
   "id": "cbbd7ad5",
   "metadata": {},
   "outputs": [
    {
     "name": "stdout",
     "output_type": "stream",
     "text": [
      "the organization is no more\n"
     ]
    }
   ],
   "source": [
    "O.hasDie()"
   ]
  },
  {
   "cell_type": "code",
   "execution_count": 5,
   "id": "b32cb065",
   "metadata": {},
   "outputs": [
    {
     "name": "stdout",
     "output_type": "stream",
     "text": [
      "invalid entry\n"
     ]
    }
   ],
   "source": [
    "O.isalive()"
   ]
  },
  {
   "cell_type": "code",
   "execution_count": 6,
   "id": "2cd87788",
   "metadata": {},
   "outputs": [
    {
     "data": {
      "text/plain": [
       "'john'"
      ]
     },
     "execution_count": 6,
     "metadata": {},
     "output_type": "execute_result"
    }
   ],
   "source": [
    "O.Employees()"
   ]
  },
  {
   "cell_type": "code",
   "execution_count": 7,
   "id": "d8879613",
   "metadata": {},
   "outputs": [
    {
     "name": "stdout",
     "output_type": "stream",
     "text": [
      "there is no effect on organization and the died person is : john\n"
     ]
    }
   ],
   "source": [
    "O.hasdie()"
   ]
  },
  {
   "cell_type": "markdown",
   "id": "4f0d4a8c",
   "metadata": {},
   "source": [
    "# Question no.3"
   ]
  },
  {
   "cell_type": "code",
   "execution_count": 157,
   "id": "5c362328",
   "metadata": {},
   "outputs": [],
   "source": [
    "class Animal:\n",
    "    def __init__(self,a,m,e,S):\n",
    "        self.isalive = a\n",
    "        self.milk = m\n",
    "        self.eat = e\n",
    "        self.Species=S\n",
    "    def isAlive(self):\n",
    "        print(\"the animal is alive\")\n",
    "        return self.isalive\n",
    "    def species(self):\n",
    "        print(\"the specie is a mammal and can only eat grass\")\n",
    "        return self.Species\n",
    "    def givesMilk(self):\n",
    "        print(\"the female mamals can give milk and eggs \")\n",
    "        return self.milk\n",
    "    def canEat(self):\n",
    "        print(\"mammals can only eat grass or anything else that isn't meat\")\n",
    "        return self.eat\n",
    "class Fish(Animal):\n",
    "    def __init__(self,s,E,m):\n",
    "        self.swim=s\n",
    "        self.Eat=E\n",
    "        self.milk_= m\n",
    "    def canswim(self):\n",
    "        print(\"as it is a fish so it can swim easily\")\n",
    "        return self.swim\n",
    "    def eat(self):\n",
    "        print(\"fish can eat grass as well as other fishes\")\n",
    "        return self.Eat\n",
    "    def Milk(self):\n",
    "        print(\"the fish can either gives milk or can give eggs as well\")\n",
    "        return self.milk_\n",
    "class Platypus(Fish,Animal):\n",
    "    def __init__(self,w,e,h,s,a):\n",
    "        self.weight = w\n",
    "        self.eat= e\n",
    "        self.swim = s\n",
    "        self.height = h\n",
    "        self.isalive=a\n",
    "    def haveWeight(self):\n",
    "        print(\"the platypus have weight of : \",self.weight,\"kg\")\n",
    "    def haveHeight(self):\n",
    "        print(\"the platypus have height of : \" ,self.height,\"meter\")\n",
    "        \n",
    "        "
   ]
  },
  {
   "cell_type": "code",
   "execution_count": 146,
   "id": "c130b57f",
   "metadata": {},
   "outputs": [],
   "source": [
    "A = Animal(\"yes\",\"Yes\",\"water grass\",\"mammal\")"
   ]
  },
  {
   "cell_type": "code",
   "execution_count": 147,
   "id": "e9556e6a",
   "metadata": {},
   "outputs": [
    {
     "name": "stdout",
     "output_type": "stream",
     "text": [
      "mammals can only eat grass or anything else that isn't meat\n"
     ]
    },
    {
     "data": {
      "text/plain": [
       "'water grass'"
      ]
     },
     "execution_count": 147,
     "metadata": {},
     "output_type": "execute_result"
    }
   ],
   "source": [
    "A.canEat()"
   ]
  },
  {
   "cell_type": "code",
   "execution_count": 148,
   "id": "3c0bb5ad",
   "metadata": {},
   "outputs": [
    {
     "name": "stdout",
     "output_type": "stream",
     "text": [
      "the animal is alive\n"
     ]
    },
    {
     "data": {
      "text/plain": [
       "'yes'"
      ]
     },
     "execution_count": 148,
     "metadata": {},
     "output_type": "execute_result"
    }
   ],
   "source": [
    "A.isAlive()"
   ]
  },
  {
   "cell_type": "code",
   "execution_count": 149,
   "id": "b956a733",
   "metadata": {},
   "outputs": [
    {
     "name": "stdout",
     "output_type": "stream",
     "text": [
      "the specie is a mammal and can only eat grass\n"
     ]
    },
    {
     "data": {
      "text/plain": [
       "'mammal'"
      ]
     },
     "execution_count": 149,
     "metadata": {},
     "output_type": "execute_result"
    }
   ],
   "source": [
    "A.species()"
   ]
  },
  {
   "cell_type": "code",
   "execution_count": 150,
   "id": "d8662cd0",
   "metadata": {},
   "outputs": [
    {
     "name": "stdout",
     "output_type": "stream",
     "text": [
      "the female mamals can give milk and eggs \n"
     ]
    },
    {
     "data": {
      "text/plain": [
       "'Yes'"
      ]
     },
     "execution_count": 150,
     "metadata": {},
     "output_type": "execute_result"
    }
   ],
   "source": [
    "A.givesMilk()"
   ]
  },
  {
   "cell_type": "code",
   "execution_count": 151,
   "id": "beab0c71",
   "metadata": {},
   "outputs": [],
   "source": [
    "F = Fish(\"yes only in water \",\"worm\",\"yes can give milk\")"
   ]
  },
  {
   "cell_type": "code",
   "execution_count": 152,
   "id": "8b778eeb",
   "metadata": {},
   "outputs": [
    {
     "name": "stdout",
     "output_type": "stream",
     "text": [
      "as it is a fish so it can swim easily\n"
     ]
    },
    {
     "data": {
      "text/plain": [
       "'yes only in water '"
      ]
     },
     "execution_count": 152,
     "metadata": {},
     "output_type": "execute_result"
    }
   ],
   "source": [
    "F.canswim()"
   ]
  },
  {
   "cell_type": "code",
   "execution_count": 153,
   "id": "74c28f4f",
   "metadata": {},
   "outputs": [
    {
     "name": "stdout",
     "output_type": "stream",
     "text": [
      "fish can eat grass as well as other fishes\n"
     ]
    },
    {
     "data": {
      "text/plain": [
       "'worm'"
      ]
     },
     "execution_count": 153,
     "metadata": {},
     "output_type": "execute_result"
    }
   ],
   "source": [
    "F.Eat\n",
    "F.eat()"
   ]
  },
  {
   "cell_type": "code",
   "execution_count": 154,
   "id": "d6487dae",
   "metadata": {},
   "outputs": [
    {
     "name": "stdout",
     "output_type": "stream",
     "text": [
      "the fish can either gives milk or can give eggs as well\n"
     ]
    },
    {
     "data": {
      "text/plain": [
       "'yes can give milk'"
      ]
     },
     "execution_count": 154,
     "metadata": {},
     "output_type": "execute_result"
    }
   ],
   "source": [
    "F.Milk()"
   ]
  },
  {
   "cell_type": "code",
   "execution_count": 158,
   "id": "e097675a",
   "metadata": {},
   "outputs": [],
   "source": [
    "P = Platypus(60,\"worm\",1,\"yes\",\"yes offcourse\")"
   ]
  },
  {
   "cell_type": "code",
   "execution_count": 159,
   "id": "9bf49510",
   "metadata": {},
   "outputs": [
    {
     "name": "stdout",
     "output_type": "stream",
     "text": [
      "the platypus have weight of :  60 kg\n"
     ]
    }
   ],
   "source": [
    "P.haveWeight()"
   ]
  },
  {
   "cell_type": "code",
   "execution_count": 160,
   "id": "3dd3d489",
   "metadata": {},
   "outputs": [
    {
     "name": "stdout",
     "output_type": "stream",
     "text": [
      "mammals can only eat grass or anything else that isn't meat\n"
     ]
    },
    {
     "data": {
      "text/plain": [
       "'worm'"
      ]
     },
     "execution_count": 160,
     "metadata": {},
     "output_type": "execute_result"
    }
   ],
   "source": [
    "P.canEat()"
   ]
  },
  {
   "cell_type": "code",
   "execution_count": 161,
   "id": "101cd885",
   "metadata": {},
   "outputs": [
    {
     "name": "stdout",
     "output_type": "stream",
     "text": [
      "the animal is alive\n"
     ]
    },
    {
     "data": {
      "text/plain": [
       "'yes offcourse'"
      ]
     },
     "execution_count": 161,
     "metadata": {},
     "output_type": "execute_result"
    }
   ],
   "source": [
    "P.isAlive()"
   ]
  },
  {
   "cell_type": "code",
   "execution_count": 162,
   "id": "ef0cb30a",
   "metadata": {},
   "outputs": [
    {
     "name": "stdout",
     "output_type": "stream",
     "text": [
      "as it is a fish so it can swim easily\n"
     ]
    },
    {
     "data": {
      "text/plain": [
       "'yes'"
      ]
     },
     "execution_count": 162,
     "metadata": {},
     "output_type": "execute_result"
    }
   ],
   "source": [
    "P.canswim()"
   ]
  },
  {
   "cell_type": "code",
   "execution_count": null,
   "id": "3d53e7d6",
   "metadata": {},
   "outputs": [],
   "source": []
  }
 ],
 "metadata": {
  "kernelspec": {
   "display_name": "Python 3 (ipykernel)",
   "language": "python",
   "name": "python3"
  },
  "language_info": {
   "codemirror_mode": {
    "name": "ipython",
    "version": 3
   },
   "file_extension": ".py",
   "mimetype": "text/x-python",
   "name": "python",
   "nbconvert_exporter": "python",
   "pygments_lexer": "ipython3",
   "version": "3.9.7"
  }
 },
 "nbformat": 4,
 "nbformat_minor": 5
}
